{
 "cells": [
  {
   "cell_type": "markdown",
   "metadata": {},
   "source": [
    "train_submissions.csv - This contains 1,55,295 submissions which are selected randomly from 2,21,850 submissions. Contains 3 columns (‘user_id’, ‘problem_id’, ‘attempts_range’). The variable ‘attempts_range’ denoted the range no. in which attempts the user made to get the solution accepted lies.\n",
    " \n",
    "\n",
    "            We have used following criteria to define the attempts_range :-\n",
    "\n",
    "            attempts_range            No. of attempts lies inside\n",
    "\n",
    "            1                                         1-1\n",
    "\n",
    "            2                                         2-3\n",
    "\n",
    "            3                                         4-5\n",
    "\n",
    "            4                                         6-7\n",
    "\n",
    "            5                                         8-9\n",
    "\n",
    "            6                                         >=10    \n",
    "\n",
    "user_data.csv - This is the file containing data of users. It contains the following features :-\n",
    "user_id - unique ID assigned to each user\n",
    "submission_count - total number of user submissions\n",
    "problem_solved - total number of accepted user submissions\n",
    "contribution - user contribution to the judge\n",
    "country - location of user\n",
    "follower_count - amount of users who have this user in followers\n",
    "last_online_time_seconds - time when user was last seen online\n",
    "max_rating - maximum rating of user\n",
    "rating - rating of user\n",
    "rank - can be one of ‘beginner’ ,’intermediate’ , ‘advanced’, ‘expert’\n",
    "registration_time_seconds - time when user was registered\n",
    " \n",
    "\n",
    "problem_data.csv - This is the file containing data of the problems. It contains the following features :-\n",
    "problem_id - unique ID assigned to each problem\n",
    "level_id - the difficulty level of the problem between ‘A’ to ‘N’\n",
    "points - amount of points for the problem\n",
    "tags - problem tag(s) like greedy, graphs, DFS etc."
   ]
  },
  {
   "cell_type": "code",
   "execution_count": 1,
   "metadata": {},
   "outputs": [],
   "source": [
    "import numpy as np\n",
    "import pandas as pd\n",
    "import seaborn as sns\n",
    "import matplotlib.pyplot as plt\n",
    "from sklearn import datasets, linear_model\n",
    "from sklearn.tree import DecisionTreeClassifier\n",
    "from sklearn.linear_model import LogisticRegression\n",
    "from sklearn.metrics import classification_report, confusion_matrix, accuracy_score, mean_squared_error, r2_score\n",
    "from sklearn.metrics import mean_squared_error, r2_score\n",
    "from sklearn.preprocessing import PolynomialFeatures\n",
    "%matplotlib inline \n",
    "import os\n",
    "import plotly.graph_objs as go\n",
    "from plotly.offline import init_notebook_mode, iplot\n",
    "import math\n",
    "from collections import Counter\n",
    "from sklearn.model_selection import train_test_split\n",
    "from sklearn.neighbors import KNeighborsClassifier\n",
    "import plotly.figure_factory as ff\n",
    "from sklearn import preprocessing\n",
    "from sklearn.preprocessing import StandardScaler\n",
    "import tensorflow as tf\n",
    "from tensorflow import keras"
   ]
  },
  {
   "cell_type": "code",
   "execution_count": 2,
   "metadata": {},
   "outputs": [],
   "source": [
    "#reading the source csv files\n",
    "user_data=pd.read_csv(\"user_data.csv\")\n",
    "#print(user_data)\n",
    "problem_data=pd.read_csv(\"problem_data.csv\")\n",
    "train_data=pd.read_csv(\"train_submissions.csv\")\n"
   ]
  },
  {
   "cell_type": "code",
   "execution_count": 3,
   "metadata": {},
   "outputs": [
    {
     "name": "stdout",
     "output_type": "stream",
     "text": [
      "Index(['user_id', 'submission_count', 'problem_solved', 'contribution',\n",
      "       'country', 'follower_count', 'last_online_time_seconds', 'max_rating',\n",
      "       'rating', 'rank', 'registration_time_seconds'],\n",
      "      dtype='object')\n",
      "Index(['problem_id', 'level_type', 'points', 'tags'], dtype='object')\n",
      "Index(['user_id', 'problem_id', 'attempts_range'], dtype='object')\n",
      "3571\n",
      "6544\n",
      "155295\n"
     ]
    }
   ],
   "source": [
    "#profiling\n",
    "print(user_data.columns)\n",
    "print(problem_data.columns)\n",
    "print(train_data.columns)\n",
    "\n",
    "print(user_data.shape[0])\n",
    "print(problem_data.shape[0])\n",
    "print(train_data.shape[0])"
   ]
  },
  {
   "cell_type": "code",
   "execution_count": 4,
   "metadata": {},
   "outputs": [],
   "source": [
    "# Joining \n",
    "# first join between user_data and train_data on user_id\n",
    "merged_inner_1 = pd.merge(left=user_data,right=train_data, left_on='user_id', right_on='user_id')\n",
    "# second join between merged_inner_1 and problem_data on problem_id\n",
    "dataset=pd.merge(left=merged_inner_1,right=problem_data, left_on='problem_id', right_on='problem_id')\n",
    "\n"
   ]
  },
  {
   "cell_type": "code",
   "execution_count": 5,
   "metadata": {},
   "outputs": [
    {
     "name": "stdout",
     "output_type": "stream",
     "text": [
      "Index(['user_id', 'submission_count', 'problem_solved', 'contribution',\n",
      "       'country', 'follower_count', 'last_online_time_seconds', 'max_rating',\n",
      "       'rating', 'rank', 'registration_time_seconds', 'problem_id',\n",
      "       'attempts_range'],\n",
      "      dtype='object')\n",
      "155295\n"
     ]
    }
   ],
   "source": [
    "print(merged_inner_1.columns)\n",
    "print(merged_inner_1.shape[0])"
   ]
  },
  {
   "cell_type": "code",
   "execution_count": 6,
   "metadata": {},
   "outputs": [
    {
     "name": "stdout",
     "output_type": "stream",
     "text": [
      "Index(['user_id', 'submission_count', 'problem_solved', 'contribution',\n",
      "       'country', 'follower_count', 'last_online_time_seconds', 'max_rating',\n",
      "       'rating', 'rank', 'registration_time_seconds', 'problem_id',\n",
      "       'attempts_range', 'level_type', 'points', 'tags'],\n",
      "      dtype='object')\n",
      "155295\n",
      "(155295, 16)\n"
     ]
    }
   ],
   "source": [
    "print(dataset.columns)\n",
    "print(dataset.shape[0])\n",
    "print(dataset.shape)"
   ]
  },
  {
   "cell_type": "code",
   "execution_count": 7,
   "metadata": {},
   "outputs": [
    {
     "data": {
      "text/html": [
       "<div>\n",
       "<style scoped>\n",
       "    .dataframe tbody tr th:only-of-type {\n",
       "        vertical-align: middle;\n",
       "    }\n",
       "\n",
       "    .dataframe tbody tr th {\n",
       "        vertical-align: top;\n",
       "    }\n",
       "\n",
       "    .dataframe thead th {\n",
       "        text-align: right;\n",
       "    }\n",
       "</style>\n",
       "<table border=\"1\" class=\"dataframe\">\n",
       "  <thead>\n",
       "    <tr style=\"text-align: right;\">\n",
       "      <th></th>\n",
       "      <th>submission_count</th>\n",
       "      <th>problem_solved</th>\n",
       "      <th>contribution</th>\n",
       "      <th>follower_count</th>\n",
       "      <th>last_online_time_seconds</th>\n",
       "      <th>max_rating</th>\n",
       "      <th>rating</th>\n",
       "      <th>registration_time_seconds</th>\n",
       "      <th>attempts_range</th>\n",
       "      <th>points</th>\n",
       "    </tr>\n",
       "  </thead>\n",
       "  <tbody>\n",
       "    <tr>\n",
       "      <td>count</td>\n",
       "      <td>155295.000000</td>\n",
       "      <td>155295.000000</td>\n",
       "      <td>155295.000000</td>\n",
       "      <td>155295.000000</td>\n",
       "      <td>1.552950e+05</td>\n",
       "      <td>155295.000000</td>\n",
       "      <td>155295.000000</td>\n",
       "      <td>1.552950e+05</td>\n",
       "      <td>155295.000000</td>\n",
       "      <td>126220.000000</td>\n",
       "    </tr>\n",
       "    <tr>\n",
       "      <td>mean</td>\n",
       "      <td>372.235680</td>\n",
       "      <td>336.078695</td>\n",
       "      <td>5.493718</td>\n",
       "      <td>61.064406</td>\n",
       "      <td>1.503666e+09</td>\n",
       "      <td>407.525560</td>\n",
       "      <td>368.623667</td>\n",
       "      <td>1.427513e+09</td>\n",
       "      <td>1.755028</td>\n",
       "      <td>993.302369</td>\n",
       "    </tr>\n",
       "    <tr>\n",
       "      <td>std</td>\n",
       "      <td>398.204943</td>\n",
       "      <td>377.378519</td>\n",
       "      <td>19.076626</td>\n",
       "      <td>258.997551</td>\n",
       "      <td>3.867762e+06</td>\n",
       "      <td>99.670629</td>\n",
       "      <td>112.046565</td>\n",
       "      <td>5.033908e+07</td>\n",
       "      <td>1.078450</td>\n",
       "      <td>568.115307</td>\n",
       "    </tr>\n",
       "    <tr>\n",
       "      <td>min</td>\n",
       "      <td>1.000000</td>\n",
       "      <td>1.000000</td>\n",
       "      <td>-64.000000</td>\n",
       "      <td>0.000000</td>\n",
       "      <td>1.484239e+09</td>\n",
       "      <td>303.899000</td>\n",
       "      <td>0.000000</td>\n",
       "      <td>1.264761e+09</td>\n",
       "      <td>1.000000</td>\n",
       "      <td>-1.000000</td>\n",
       "    </tr>\n",
       "    <tr>\n",
       "      <td>25%</td>\n",
       "      <td>118.000000</td>\n",
       "      <td>99.000000</td>\n",
       "      <td>0.000000</td>\n",
       "      <td>7.000000</td>\n",
       "      <td>1.504118e+09</td>\n",
       "      <td>323.394000</td>\n",
       "      <td>288.131000</td>\n",
       "      <td>1.408458e+09</td>\n",
       "      <td>1.000000</td>\n",
       "      <td>500.000000</td>\n",
       "    </tr>\n",
       "    <tr>\n",
       "      <td>50%</td>\n",
       "      <td>237.000000</td>\n",
       "      <td>209.000000</td>\n",
       "      <td>0.000000</td>\n",
       "      <td>20.000000</td>\n",
       "      <td>1.505289e+09</td>\n",
       "      <td>383.028000</td>\n",
       "      <td>356.078000</td>\n",
       "      <td>1.442762e+09</td>\n",
       "      <td>1.000000</td>\n",
       "      <td>1000.000000</td>\n",
       "    </tr>\n",
       "    <tr>\n",
       "      <td>75%</td>\n",
       "      <td>480.000000</td>\n",
       "      <td>428.000000</td>\n",
       "      <td>1.000000</td>\n",
       "      <td>52.000000</td>\n",
       "      <td>1.505560e+09</td>\n",
       "      <td>468.463000</td>\n",
       "      <td>445.814000</td>\n",
       "      <td>1.464692e+09</td>\n",
       "      <td>2.000000</td>\n",
       "      <td>1500.000000</td>\n",
       "    </tr>\n",
       "    <tr>\n",
       "      <td>max</td>\n",
       "      <td>4570.000000</td>\n",
       "      <td>4476.000000</td>\n",
       "      <td>171.000000</td>\n",
       "      <td>10575.000000</td>\n",
       "      <td>1.505595e+09</td>\n",
       "      <td>983.085000</td>\n",
       "      <td>911.124000</td>\n",
       "      <td>1.484236e+09</td>\n",
       "      <td>6.000000</td>\n",
       "      <td>5000.000000</td>\n",
       "    </tr>\n",
       "  </tbody>\n",
       "</table>\n",
       "</div>"
      ],
      "text/plain": [
       "       submission_count  problem_solved   contribution  follower_count  \\\n",
       "count     155295.000000   155295.000000  155295.000000   155295.000000   \n",
       "mean         372.235680      336.078695       5.493718       61.064406   \n",
       "std          398.204943      377.378519      19.076626      258.997551   \n",
       "min            1.000000        1.000000     -64.000000        0.000000   \n",
       "25%          118.000000       99.000000       0.000000        7.000000   \n",
       "50%          237.000000      209.000000       0.000000       20.000000   \n",
       "75%          480.000000      428.000000       1.000000       52.000000   \n",
       "max         4570.000000     4476.000000     171.000000    10575.000000   \n",
       "\n",
       "       last_online_time_seconds     max_rating         rating  \\\n",
       "count              1.552950e+05  155295.000000  155295.000000   \n",
       "mean               1.503666e+09     407.525560     368.623667   \n",
       "std                3.867762e+06      99.670629     112.046565   \n",
       "min                1.484239e+09     303.899000       0.000000   \n",
       "25%                1.504118e+09     323.394000     288.131000   \n",
       "50%                1.505289e+09     383.028000     356.078000   \n",
       "75%                1.505560e+09     468.463000     445.814000   \n",
       "max                1.505595e+09     983.085000     911.124000   \n",
       "\n",
       "       registration_time_seconds  attempts_range         points  \n",
       "count               1.552950e+05   155295.000000  126220.000000  \n",
       "mean                1.427513e+09        1.755028     993.302369  \n",
       "std                 5.033908e+07        1.078450     568.115307  \n",
       "min                 1.264761e+09        1.000000      -1.000000  \n",
       "25%                 1.408458e+09        1.000000     500.000000  \n",
       "50%                 1.442762e+09        1.000000    1000.000000  \n",
       "75%                 1.464692e+09        2.000000    1500.000000  \n",
       "max                 1.484236e+09        6.000000    5000.000000  "
      ]
     },
     "execution_count": 7,
     "metadata": {},
     "output_type": "execute_result"
    }
   ],
   "source": [
    "dataset.describe()"
   ]
  },
  {
   "cell_type": "code",
   "execution_count": 8,
   "metadata": {},
   "outputs": [
    {
     "data": {
      "text/html": [
       "<div>\n",
       "<style scoped>\n",
       "    .dataframe tbody tr th:only-of-type {\n",
       "        vertical-align: middle;\n",
       "    }\n",
       "\n",
       "    .dataframe tbody tr th {\n",
       "        vertical-align: top;\n",
       "    }\n",
       "\n",
       "    .dataframe thead th {\n",
       "        text-align: right;\n",
       "    }\n",
       "</style>\n",
       "<table border=\"1\" class=\"dataframe\">\n",
       "  <thead>\n",
       "    <tr style=\"text-align: right;\">\n",
       "      <th></th>\n",
       "      <th>user_id</th>\n",
       "      <th>submission_count</th>\n",
       "      <th>problem_solved</th>\n",
       "      <th>contribution</th>\n",
       "      <th>country</th>\n",
       "      <th>follower_count</th>\n",
       "      <th>last_online_time_seconds</th>\n",
       "      <th>max_rating</th>\n",
       "      <th>rating</th>\n",
       "      <th>rank</th>\n",
       "      <th>registration_time_seconds</th>\n",
       "      <th>problem_id</th>\n",
       "      <th>attempts_range</th>\n",
       "      <th>level_type</th>\n",
       "      <th>points</th>\n",
       "      <th>tags</th>\n",
       "    </tr>\n",
       "  </thead>\n",
       "  <tbody>\n",
       "    <tr>\n",
       "      <td>0</td>\n",
       "      <td>user_3311</td>\n",
       "      <td>47</td>\n",
       "      <td>40</td>\n",
       "      <td>0</td>\n",
       "      <td>NaN</td>\n",
       "      <td>4</td>\n",
       "      <td>1504111645</td>\n",
       "      <td>348.337</td>\n",
       "      <td>330.849</td>\n",
       "      <td>intermediate</td>\n",
       "      <td>1466686436</td>\n",
       "      <td>prob_75</td>\n",
       "      <td>1</td>\n",
       "      <td>A</td>\n",
       "      <td>500.0</td>\n",
       "      <td>implementation</td>\n",
       "    </tr>\n",
       "    <tr>\n",
       "      <td>1</td>\n",
       "      <td>user_1972</td>\n",
       "      <td>107</td>\n",
       "      <td>99</td>\n",
       "      <td>0</td>\n",
       "      <td>India</td>\n",
       "      <td>11</td>\n",
       "      <td>1504291325</td>\n",
       "      <td>304.186</td>\n",
       "      <td>203.842</td>\n",
       "      <td>beginner</td>\n",
       "      <td>1439050893</td>\n",
       "      <td>prob_75</td>\n",
       "      <td>2</td>\n",
       "      <td>A</td>\n",
       "      <td>500.0</td>\n",
       "      <td>implementation</td>\n",
       "    </tr>\n",
       "    <tr>\n",
       "      <td>2</td>\n",
       "      <td>user_3317</td>\n",
       "      <td>735</td>\n",
       "      <td>715</td>\n",
       "      <td>0</td>\n",
       "      <td>Vietnam</td>\n",
       "      <td>9</td>\n",
       "      <td>1484278246</td>\n",
       "      <td>419.438</td>\n",
       "      <td>353.211</td>\n",
       "      <td>intermediate</td>\n",
       "      <td>1421847147</td>\n",
       "      <td>prob_75</td>\n",
       "      <td>2</td>\n",
       "      <td>A</td>\n",
       "      <td>500.0</td>\n",
       "      <td>implementation</td>\n",
       "    </tr>\n",
       "    <tr>\n",
       "      <td>3</td>\n",
       "      <td>user_2412</td>\n",
       "      <td>169</td>\n",
       "      <td>159</td>\n",
       "      <td>0</td>\n",
       "      <td>NaN</td>\n",
       "      <td>2</td>\n",
       "      <td>1505569083</td>\n",
       "      <td>345.757</td>\n",
       "      <td>345.757</td>\n",
       "      <td>intermediate</td>\n",
       "      <td>1429008478</td>\n",
       "      <td>prob_75</td>\n",
       "      <td>1</td>\n",
       "      <td>A</td>\n",
       "      <td>500.0</td>\n",
       "      <td>implementation</td>\n",
       "    </tr>\n",
       "    <tr>\n",
       "      <td>4</td>\n",
       "      <td>user_872</td>\n",
       "      <td>113</td>\n",
       "      <td>95</td>\n",
       "      <td>0</td>\n",
       "      <td>Bangladesh</td>\n",
       "      <td>7</td>\n",
       "      <td>1504977695</td>\n",
       "      <td>314.220</td>\n",
       "      <td>89.163</td>\n",
       "      <td>beginner</td>\n",
       "      <td>1480081730</td>\n",
       "      <td>prob_75</td>\n",
       "      <td>1</td>\n",
       "      <td>A</td>\n",
       "      <td>500.0</td>\n",
       "      <td>implementation</td>\n",
       "    </tr>\n",
       "  </tbody>\n",
       "</table>\n",
       "</div>"
      ],
      "text/plain": [
       "     user_id  submission_count  problem_solved  contribution     country  \\\n",
       "0  user_3311                47              40             0         NaN   \n",
       "1  user_1972               107              99             0       India   \n",
       "2  user_3317               735             715             0     Vietnam   \n",
       "3  user_2412               169             159             0         NaN   \n",
       "4   user_872               113              95             0  Bangladesh   \n",
       "\n",
       "   follower_count  last_online_time_seconds  max_rating   rating  \\\n",
       "0               4                1504111645     348.337  330.849   \n",
       "1              11                1504291325     304.186  203.842   \n",
       "2               9                1484278246     419.438  353.211   \n",
       "3               2                1505569083     345.757  345.757   \n",
       "4               7                1504977695     314.220   89.163   \n",
       "\n",
       "           rank  registration_time_seconds problem_id  attempts_range  \\\n",
       "0  intermediate                 1466686436    prob_75               1   \n",
       "1      beginner                 1439050893    prob_75               2   \n",
       "2  intermediate                 1421847147    prob_75               2   \n",
       "3  intermediate                 1429008478    prob_75               1   \n",
       "4      beginner                 1480081730    prob_75               1   \n",
       "\n",
       "  level_type  points            tags  \n",
       "0          A   500.0  implementation  \n",
       "1          A   500.0  implementation  \n",
       "2          A   500.0  implementation  \n",
       "3          A   500.0  implementation  \n",
       "4          A   500.0  implementation  "
      ]
     },
     "execution_count": 8,
     "metadata": {},
     "output_type": "execute_result"
    }
   ],
   "source": [
    "dataset.head()"
   ]
  },
  {
   "cell_type": "code",
   "execution_count": 102,
   "metadata": {},
   "outputs": [
    {
     "data": {
      "text/plain": [
       "(155295, 16)"
      ]
     },
     "execution_count": 102,
     "metadata": {},
     "output_type": "execute_result"
    }
   ],
   "source": [
    "dataset.shape"
   ]
  },
  {
   "cell_type": "markdown",
   "metadata": {},
   "source": [
    "#Preprocessing \n",
    "1. Handling missing data\n",
    "2. Outlier detection\n",
    "3. Convert categorical variables to numeric using dummy variables\n",
    "4. Scaling numerical variables\n",
    "5. Dimension reduction using correlation"
   ]
  },
  {
   "cell_type": "markdown",
   "metadata": {},
   "source": [
    "#Missing Data"
   ]
  },
  {
   "cell_type": "code",
   "execution_count": 219,
   "metadata": {},
   "outputs": [
    {
     "data": {
      "text/html": [
       "<div>\n",
       "<style scoped>\n",
       "    .dataframe tbody tr th:only-of-type {\n",
       "        vertical-align: middle;\n",
       "    }\n",
       "\n",
       "    .dataframe tbody tr th {\n",
       "        vertical-align: top;\n",
       "    }\n",
       "\n",
       "    .dataframe thead th {\n",
       "        text-align: right;\n",
       "    }\n",
       "</style>\n",
       "<table border=\"1\" class=\"dataframe\">\n",
       "  <thead>\n",
       "    <tr style=\"text-align: right;\">\n",
       "      <th></th>\n",
       "      <th>country</th>\n",
       "      <th>points</th>\n",
       "      <th>tags</th>\n",
       "      <th>level_type</th>\n",
       "      <th>attempts_range</th>\n",
       "      <th>problem_id</th>\n",
       "      <th>registration_time_seconds</th>\n",
       "      <th>rank</th>\n",
       "      <th>rating</th>\n",
       "      <th>max_rating</th>\n",
       "      <th>last_online_time_seconds</th>\n",
       "      <th>follower_count</th>\n",
       "      <th>contribution</th>\n",
       "      <th>problem_solved</th>\n",
       "      <th>submission_count</th>\n",
       "      <th>user_id</th>\n",
       "    </tr>\n",
       "  </thead>\n",
       "  <tbody>\n",
       "    <tr>\n",
       "      <td>Total</td>\n",
       "      <td>37853.000000</td>\n",
       "      <td>29075.000000</td>\n",
       "      <td>15427.000000</td>\n",
       "      <td>620.00000</td>\n",
       "      <td>0.0</td>\n",
       "      <td>0.0</td>\n",
       "      <td>0.0</td>\n",
       "      <td>0.0</td>\n",
       "      <td>0.0</td>\n",
       "      <td>0.0</td>\n",
       "      <td>0.0</td>\n",
       "      <td>0.0</td>\n",
       "      <td>0.0</td>\n",
       "      <td>0.0</td>\n",
       "      <td>0.0</td>\n",
       "      <td>0.0</td>\n",
       "    </tr>\n",
       "    <tr>\n",
       "      <td>Percentage</td>\n",
       "      <td>24.374899</td>\n",
       "      <td>18.722432</td>\n",
       "      <td>9.933997</td>\n",
       "      <td>0.39924</td>\n",
       "      <td>0.0</td>\n",
       "      <td>0.0</td>\n",
       "      <td>0.0</td>\n",
       "      <td>0.0</td>\n",
       "      <td>0.0</td>\n",
       "      <td>0.0</td>\n",
       "      <td>0.0</td>\n",
       "      <td>0.0</td>\n",
       "      <td>0.0</td>\n",
       "      <td>0.0</td>\n",
       "      <td>0.0</td>\n",
       "      <td>0.0</td>\n",
       "    </tr>\n",
       "  </tbody>\n",
       "</table>\n",
       "</div>"
      ],
      "text/plain": [
       "                 country        points          tags  level_type  \\\n",
       "Total       37853.000000  29075.000000  15427.000000   620.00000   \n",
       "Percentage     24.374899     18.722432      9.933997     0.39924   \n",
       "\n",
       "            attempts_range  problem_id  registration_time_seconds  rank  \\\n",
       "Total                  0.0         0.0                        0.0   0.0   \n",
       "Percentage             0.0         0.0                        0.0   0.0   \n",
       "\n",
       "            rating  max_rating  last_online_time_seconds  follower_count  \\\n",
       "Total          0.0         0.0                       0.0             0.0   \n",
       "Percentage     0.0         0.0                       0.0             0.0   \n",
       "\n",
       "            contribution  problem_solved  submission_count  user_id  \n",
       "Total                0.0             0.0               0.0      0.0  \n",
       "Percentage           0.0             0.0               0.0      0.0  "
      ]
     },
     "execution_count": 219,
     "metadata": {},
     "output_type": "execute_result"
    }
   ],
   "source": [
    "total = dataset.isnull().sum().sort_values(ascending = False)\n",
    "null_percentage = (dataset.isnull().sum() / dataset.isnull().count() * 100).sort_values(ascending = False)\n",
    "pd.concat([total, null_percentage], axis=1, keys=['Total', 'Percentage']).transpose()"
   ]
  },
  {
   "cell_type": "code",
   "execution_count": 10,
   "metadata": {},
   "outputs": [],
   "source": []
  },
  {
   "cell_type": "code",
   "execution_count": 12,
   "metadata": {},
   "outputs": [],
   "source": [
    "dataset_cleaned1 = dataset.dropna(axis=0, subset=['tags'])\n",
    "dataset_cleaned2 = dataset_cleaned1.dropna(axis=0, subset=['level_type'])\n",
    "dataset_cleaned2['points']= dataset_cleaned2['points'].replace(np.NaN,0)\n",
    "dataset_cleaned2['country']= dataset_cleaned2['country'].replace(np.NaN,'Unspecified')\n",
    "\n",
    "final_dataset=dataset_cleaned2"
   ]
  },
  {
   "cell_type": "code",
   "execution_count": 13,
   "metadata": {},
   "outputs": [
    {
     "data": {
      "text/html": [
       "<div>\n",
       "<style scoped>\n",
       "    .dataframe tbody tr th:only-of-type {\n",
       "        vertical-align: middle;\n",
       "    }\n",
       "\n",
       "    .dataframe tbody tr th {\n",
       "        vertical-align: top;\n",
       "    }\n",
       "\n",
       "    .dataframe thead th {\n",
       "        text-align: right;\n",
       "    }\n",
       "</style>\n",
       "<table border=\"1\" class=\"dataframe\">\n",
       "  <thead>\n",
       "    <tr style=\"text-align: right;\">\n",
       "      <th></th>\n",
       "      <th>tags</th>\n",
       "      <th>points</th>\n",
       "      <th>level_type</th>\n",
       "      <th>attempts_range</th>\n",
       "      <th>problem_id</th>\n",
       "      <th>registration_time_seconds</th>\n",
       "      <th>rank</th>\n",
       "      <th>rating</th>\n",
       "      <th>max_rating</th>\n",
       "      <th>last_online_time_seconds</th>\n",
       "      <th>follower_count</th>\n",
       "      <th>country</th>\n",
       "      <th>contribution</th>\n",
       "      <th>problem_solved</th>\n",
       "      <th>submission_count</th>\n",
       "      <th>user_id</th>\n",
       "    </tr>\n",
       "  </thead>\n",
       "  <tbody>\n",
       "    <tr>\n",
       "      <td>Total</td>\n",
       "      <td>0.0</td>\n",
       "      <td>0.0</td>\n",
       "      <td>0.0</td>\n",
       "      <td>0.0</td>\n",
       "      <td>0.0</td>\n",
       "      <td>0.0</td>\n",
       "      <td>0.0</td>\n",
       "      <td>0.0</td>\n",
       "      <td>0.0</td>\n",
       "      <td>0.0</td>\n",
       "      <td>0.0</td>\n",
       "      <td>0.0</td>\n",
       "      <td>0.0</td>\n",
       "      <td>0.0</td>\n",
       "      <td>0.0</td>\n",
       "      <td>0.0</td>\n",
       "    </tr>\n",
       "    <tr>\n",
       "      <td>Percentage</td>\n",
       "      <td>0.0</td>\n",
       "      <td>0.0</td>\n",
       "      <td>0.0</td>\n",
       "      <td>0.0</td>\n",
       "      <td>0.0</td>\n",
       "      <td>0.0</td>\n",
       "      <td>0.0</td>\n",
       "      <td>0.0</td>\n",
       "      <td>0.0</td>\n",
       "      <td>0.0</td>\n",
       "      <td>0.0</td>\n",
       "      <td>0.0</td>\n",
       "      <td>0.0</td>\n",
       "      <td>0.0</td>\n",
       "      <td>0.0</td>\n",
       "      <td>0.0</td>\n",
       "    </tr>\n",
       "  </tbody>\n",
       "</table>\n",
       "</div>"
      ],
      "text/plain": [
       "            tags  points  level_type  attempts_range  problem_id  \\\n",
       "Total        0.0     0.0         0.0             0.0         0.0   \n",
       "Percentage   0.0     0.0         0.0             0.0         0.0   \n",
       "\n",
       "            registration_time_seconds  rank  rating  max_rating  \\\n",
       "Total                             0.0   0.0     0.0         0.0   \n",
       "Percentage                        0.0   0.0     0.0         0.0   \n",
       "\n",
       "            last_online_time_seconds  follower_count  country  contribution  \\\n",
       "Total                            0.0             0.0      0.0           0.0   \n",
       "Percentage                       0.0             0.0      0.0           0.0   \n",
       "\n",
       "            problem_solved  submission_count  user_id  \n",
       "Total                  0.0               0.0      0.0  \n",
       "Percentage             0.0               0.0      0.0  "
      ]
     },
     "execution_count": 13,
     "metadata": {},
     "output_type": "execute_result"
    }
   ],
   "source": [
    "total = final_dataset.isnull().sum().sort_values(ascending = False)\n",
    "null_percentage = (final_dataset.isnull().sum() / final_dataset.isnull().count() * 100).sort_values(ascending = False)\n",
    "pd.concat([total, null_percentage], axis=1, keys=['Total', 'Percentage']).transpose()"
   ]
  },
  {
   "cell_type": "code",
   "execution_count": 14,
   "metadata": {},
   "outputs": [
    {
     "name": "stdout",
     "output_type": "stream",
     "text": [
      "(139648, 16)\n"
     ]
    }
   ],
   "source": [
    "print(final_dataset.shape)"
   ]
  },
  {
   "cell_type": "code",
   "execution_count": 39,
   "metadata": {},
   "outputs": [
    {
     "name": "stdout",
     "output_type": "stream",
     "text": [
      "     user_id  submission_count  problem_solved  contribution      country  \\\n",
      "0  user_3311                47              40             0  Unspecified   \n",
      "1  user_1972               107              99             0        India   \n",
      "2  user_3317               735             715             0      Vietnam   \n",
      "3  user_2412               169             159             0  Unspecified   \n",
      "4   user_872               113              95             0   Bangladesh   \n",
      "\n",
      "   follower_count  last_online_time_seconds  max_rating   rating  \\\n",
      "0               4                1504111645     348.337  330.849   \n",
      "1              11                1504291325     304.186  203.842   \n",
      "2               9                1484278246     419.438  353.211   \n",
      "3               2                1505569083     345.757  345.757   \n",
      "4               7                1504977695     314.220   89.163   \n",
      "\n",
      "           rank  registration_time_seconds problem_id  attempts_range  \\\n",
      "0  intermediate                 1466686436    prob_75               1   \n",
      "1      beginner                 1439050893    prob_75               2   \n",
      "2  intermediate                 1421847147    prob_75               2   \n",
      "3  intermediate                 1429008478    prob_75               1   \n",
      "4      beginner                 1480081730    prob_75               1   \n",
      "\n",
      "  level_type  points            tags  \n",
      "0          A   500.0  implementation  \n",
      "1          A   500.0  implementation  \n",
      "2          A   500.0  implementation  \n",
      "3          A   500.0  implementation  \n",
      "4          A   500.0  implementation  \n"
     ]
    }
   ],
   "source": [
    "print(final_dataset.head())"
   ]
  },
  {
   "cell_type": "code",
   "execution_count": 52,
   "metadata": {},
   "outputs": [
    {
     "data": {
      "text/plain": [
       "<matplotlib.axes._subplots.AxesSubplot at 0x1a0996ca108>"
      ]
     },
     "execution_count": 52,
     "metadata": {},
     "output_type": "execute_result"
    },
    {
     "data": {
      "image/png": "[encoded data removed]",
      "text/plain": [
       "<Figure size 720x720 with 6 Axes>"
      ]
     },
     "metadata": {
      "needs_background": "light"
     },
     "output_type": "display_data"
    }
   ],
   "source": [
    "import seaborn as sns\n",
    "\n",
    "# Set up the matplotlib figure\n",
    "f, axes = plt.subplots(2, 3, figsize=(10, 10), sharex=True)\n",
    "sns.despine(left=True)\n",
    "\n",
    "\n",
    "sns.boxplot(x=final_dataset['submission_count'],ax=axes[0,0])\n",
    "sns.boxplot(x=final_dataset['problem_solved'],ax=axes[0,1])\n",
    "sns.boxplot(x=final_dataset['follower_count'],ax=axes[0,2])\n",
    "sns.boxplot(x=final_dataset['rating'],ax=axes[1,0])\n",
    "sns.boxplot(x=final_dataset['max_rating'],ax=axes[1,1])\n",
    "sns.boxplot(x=final_dataset['points'],ax=axes[1,2])"
   ]
  },
  {
   "cell_type": "code",
   "execution_count": 88,
   "metadata": {},
   "outputs": [],
   "source": [
    "final_dataset= final_dataset.reset_index(drop=True)\n",
    "category_variables=['tags','level_type','rank']\n",
    "numerical_variables=['submission_count','problem_solved','last_online_time_seconds',\n",
    "                     'max_rating','rating','registration_time_seconds','follower_count','points']"
   ]
  },
  {
   "cell_type": "code",
   "execution_count": 57,
   "metadata": {},
   "outputs": [
    {
     "data": {
      "text/plain": [
       "[<matplotlib.lines.Line2D at 0x1a093160d48>]"
      ]
     },
     "execution_count": 57,
     "metadata": {},
     "output_type": "execute_result"
    },
    {
     "data": {
      "image/png": "[encoded data removed]",
      "text/plain": [
       "<Figure size 432x288 with 1 Axes>"
      ]
     },
     "metadata": {
      "needs_background": "light"
     },
     "output_type": "display_data"
    }
   ],
   "source": [
    "plt.plot(final_dataset['submission_count'])"
   ]
  },
  {
   "cell_type": "code",
   "execution_count": 89,
   "metadata": {},
   "outputs": [],
   "source": [
    "def preprocessed_categorical_df(X,cat_list):\n",
    "    for x in cat_list:\n",
    "        if x=='tags':\n",
    "            dummies=X[x].str.get_dummies(sep=',')\n",
    "        else:\n",
    "            dummies=pd.get_dummies(X[x],prefix=x,dummy_na=False)        \n",
    "        X=X.drop(x,1)\n",
    "        X=pd.concat([X,dummies],axis=1)\n",
    "    return X"
   ]
  },
  {
   "cell_type": "code",
   "execution_count": 90,
   "metadata": {},
   "outputs": [],
   "source": [
    "def preprocessed_numerical_df(Y,num_list):\n",
    "      scaler = StandardScaler().fit(Y[num_list].values)\n",
    "      scaledf = scaler.transform(Y[num_list].values)\n",
    "      num_df = pd.DataFrame(scaledf, index=Y[num_list].index, columns=Y[num_list].columns)\n",
    "      for y in num_list:\n",
    "        Y=Y.drop(y,1)\n",
    "      Y=pd.concat([Y,num_df],axis=1)\n",
    "      return Y"
   ]
  },
  {
   "cell_type": "code",
   "execution_count": 133,
   "metadata": {},
   "outputs": [
    {
     "data": {
      "text/plain": [
       "Index(['user_id', 'contribution', 'country', 'problem_id', 'attempts_range',\n",
       "       '*special', '2-sat', 'binary search', 'bitmasks', 'brute force',\n",
       "       'chinese remainder theorem', 'combinatorics', 'constructive algorithms',\n",
       "       'data structures', 'dfs and similar', 'divide and conquer', 'dp', 'dsu',\n",
       "       'expression parsing', 'fft', 'flows', 'games', 'geometry',\n",
       "       'graph matchings', 'graphs', 'greedy', 'hashing', 'implementation',\n",
       "       'math', 'matrices', 'meet-in-the-middle', 'number theory',\n",
       "       'probabilities', 'schedules', 'shortest paths', 'sortings',\n",
       "       'string suffix structures', 'strings', 'ternary search', 'trees',\n",
       "       'two pointers', 'level_type_A', 'level_type_B', 'level_type_C',\n",
       "       'level_type_D', 'level_type_E', 'level_type_F', 'level_type_G',\n",
       "       'level_type_H', 'level_type_I', 'level_type_J', 'level_type_K',\n",
       "       'level_type_L', 'level_type_M', 'level_type_N', 'rank_advanced',\n",
       "       'rank_beginner', 'rank_expert', 'rank_intermediate', 'submission_count',\n",
       "       'problem_solved', 'last_online_time_seconds', 'max_rating', 'rating',\n",
       "       'registration_time_seconds', 'follower_count', 'points'],\n",
       "      dtype='object')"
      ]
     },
     "execution_count": 133,
     "metadata": {},
     "output_type": "execute_result"
    }
   ],
   "source": [
    "final_categorical_dataset=preprocessed_categorical_df(final_dataset,category_variables)\n",
    "final_data=preprocessed_numerical_df(final_categorical_dataset,numerical_variables)\n",
    "final_data.columns"
   ]
  },
  {
   "cell_type": "code",
   "execution_count": 127,
   "metadata": {},
   "outputs": [
    {
     "data": {
      "text/plain": [
       "(139648, 67)"
      ]
     },
     "execution_count": 127,
     "metadata": {},
     "output_type": "execute_result"
    }
   ],
   "source": [
    "final_data.shape"
   ]
  },
  {
   "cell_type": "code",
   "execution_count": 92,
   "metadata": {},
   "outputs": [
    {
     "data": {
      "text/plain": [
       "[<matplotlib.lines.Line2D at 0x1a093147c88>]"
      ]
     },
     "execution_count": 92,
     "metadata": {},
     "output_type": "execute_result"
    },
    {
     "data": {
      "image/png": "[encoded data removed]",
      "text/plain": [
       "<Figure size 432x288 with 1 Axes>"
      ]
     },
     "metadata": {
      "needs_background": "light"
     },
     "output_type": "display_data"
    }
   ],
   "source": [
    "plt.plot(final_data['submission_count'])"
   ]
  },
  {
   "cell_type": "markdown",
   "metadata": {},
   "source": [
    "#checking the distribution of attempts_range"
   ]
  },
  {
   "cell_type": "code",
   "execution_count": 93,
   "metadata": {},
   "outputs": [],
   "source": [
    "temp_data = final_data['attempts_range'].value_counts()"
   ]
  },
  {
   "cell_type": "code",
   "execution_count": 94,
   "metadata": {},
   "outputs": [
    {
     "data": {
      "text/html": [
       "<div>\n",
       "<style scoped>\n",
       "    .dataframe tbody tr th:only-of-type {\n",
       "        vertical-align: middle;\n",
       "    }\n",
       "\n",
       "    .dataframe tbody tr th {\n",
       "        vertical-align: top;\n",
       "    }\n",
       "\n",
       "    .dataframe thead th {\n",
       "        text-align: right;\n",
       "    }\n",
       "</style>\n",
       "<table border=\"1\" class=\"dataframe\">\n",
       "  <thead>\n",
       "    <tr style=\"text-align: right;\">\n",
       "      <th></th>\n",
       "      <th>Attempts_range</th>\n",
       "      <th>values</th>\n",
       "    </tr>\n",
       "  </thead>\n",
       "  <tbody>\n",
       "    <tr>\n",
       "      <td>0</td>\n",
       "      <td>1</td>\n",
       "      <td>74776</td>\n",
       "    </tr>\n",
       "    <tr>\n",
       "      <td>1</td>\n",
       "      <td>2</td>\n",
       "      <td>42570</td>\n",
       "    </tr>\n",
       "    <tr>\n",
       "      <td>2</td>\n",
       "      <td>3</td>\n",
       "      <td>12638</td>\n",
       "    </tr>\n",
       "    <tr>\n",
       "      <td>3</td>\n",
       "      <td>4</td>\n",
       "      <td>4889</td>\n",
       "    </tr>\n",
       "    <tr>\n",
       "      <td>4</td>\n",
       "      <td>6</td>\n",
       "      <td>2574</td>\n",
       "    </tr>\n",
       "    <tr>\n",
       "      <td>5</td>\n",
       "      <td>5</td>\n",
       "      <td>2201</td>\n",
       "    </tr>\n",
       "  </tbody>\n",
       "</table>\n",
       "</div>"
      ],
      "text/plain": [
       "   Attempts_range  values\n",
       "0               1   74776\n",
       "1               2   42570\n",
       "2               3   12638\n",
       "3               4    4889\n",
       "4               6    2574\n",
       "5               5    2201"
      ]
     },
     "execution_count": 94,
     "metadata": {},
     "output_type": "execute_result"
    }
   ],
   "source": [
    "df = pd.DataFrame({'Attempts_range': temp_data.index, \"values\": temp_data.values})\n",
    "df"
   ]
  },
  {
   "cell_type": "code",
   "execution_count": 194,
   "metadata": {},
   "outputs": [
    {
     "data": {
      "text/plain": [
       "Text(0, 0.5, 'Number of records')"
      ]
     },
     "execution_count": 194,
     "metadata": {},
     "output_type": "execute_result"
    },
    {
     "data": {
      "image/png": "[encoded data removed]",
      "text/plain": [
       "<Figure size 432x288 with 1 Axes>"
      ]
     },
     "metadata": {
      "needs_background": "light"
     },
     "output_type": "display_data"
    }
   ],
   "source": [
    "Index = [1,2,3,4]\n",
    "plt.bar(df['Attempts_range'],df['values'],color=(0.2, 0.8, 0.8, 0.9))\n",
    "plt.xlabel('attempts_range')\n",
    "plt.ylabel('Number of records')"
   ]
  },
  {
   "cell_type": "code",
   "execution_count": 178,
   "metadata": {},
   "outputs": [
    {
     "name": "stdout",
     "output_type": "stream",
     "text": [
      "1    74776\n",
      "Name: attempts_range, dtype: int64\n"
     ]
    },
    {
     "data": {
      "text/plain": [
       "6    74776\n",
       "5    74776\n",
       "4    74776\n",
       "3    74776\n",
       "2    74776\n",
       "1    74776\n",
       "Name: attempts_range, dtype: int64"
      ]
     },
     "execution_count": 178,
     "metadata": {},
     "output_type": "execute_result"
    }
   ],
   "source": [
    "from sklearn.utils import resample\n",
    "\n",
    "# Separate majority and minority classes\n",
    "majority=[1]\n",
    "final_data_majority = final_data.loc[final_data['attempts_range'].isin(majority)]\n",
    "print(final_data_majority.attempts_range.value_counts())\n",
    "\n",
    "final_data_minority_2 = final_data[final_data.attempts_range==2]\n",
    "final_data_minority_3 = final_data[final_data.attempts_range==3]\n",
    "final_data_minority_4 = final_data[final_data.attempts_range==4]\n",
    "final_data_minority_5 = final_data[final_data.attempts_range==5]\n",
    "final_data_minority_6 = final_data[final_data.attempts_range==6]\n",
    " \n",
    "# Upsample minority class\n",
    "df_minority_upsampled_2 = resample(final_data_minority_2, \n",
    "                                 replace=True,     # sample with replacement\n",
    "                                 n_samples=74776,    # to match majority class\n",
    "                                 random_state=123) # reproducible results\n",
    "df_minority_upsampled_3 = resample(final_data_minority_3, \n",
    "                                 replace=True,     # sample with replacement\n",
    "                                 n_samples=74776,    # to match majority class\n",
    "                                 random_state=123) # reproducible results\n",
    "df_minority_upsampled_4 = resample(final_data_minority_4, \n",
    "                                 replace=True,     # sample with replacement\n",
    "                                 n_samples=74776,    # to match majority class\n",
    "                                 random_state=123) # reproducible results\n",
    "df_minority_upsampled_5 = resample(final_data_minority_5, \n",
    "                                 replace=True,     # sample with replacement\n",
    "                                 n_samples=74776,    # to match majority class\n",
    "                                 random_state=123) # reproducible results\n",
    "df_minority_upsampled_6 = resample(final_data_minority_6, \n",
    "                                 replace=True,     # sample with replacement\n",
    "                                 n_samples=74776,    # to match majority class\n",
    "                                 random_state=123) # reproducible results\n",
    " \n",
    "# Combine majority class with upsampled minority class\n",
    "df_upsampled = pd.concat([final_data_majority,df_minority_upsampled_2,\n",
    "                          df_minority_upsampled_3,\n",
    "                          df_minority_upsampled_4,df_minority_upsampled_5,df_minority_upsampled_6])\n",
    " \n",
    "# Display new class counts\n",
    "df_upsampled.attempts_range.value_counts()\n",
    "# 1    576\n",
    "# 0    576\n",
    "# Name: balance, dtype: int64"
   ]
  },
  {
   "cell_type": "code",
   "execution_count": 195,
   "metadata": {},
   "outputs": [
    {
     "data": {
      "text/plain": [
       "(448656, 67)"
      ]
     },
     "execution_count": 195,
     "metadata": {},
     "output_type": "execute_result"
    }
   ],
   "source": [
    "df_upsampled.shape"
   ]
  },
  {
   "cell_type": "code",
   "execution_count": 95,
   "metadata": {},
   "outputs": [],
   "source": [
    "vis = go.Bar(x = df['Attempts_range'],y = df['values'],\n",
    "    name=\"Distribution of data for different attempt ranges\",\n",
    "    marker=dict(color=(\"Red\",\"Blue\",\"Yellow\",\"red\",\"blue\")),\n",
    "    text=df['values']\n",
    ")\n",
    "data = [vis] "
   ]
  },
  {
   "cell_type": "code",
   "execution_count": 96,
   "metadata": {},
   "outputs": [
    {
     "data": {
      "application/vnd.plotly.v1+json": {
       "config": {
        "linkText": "Export to plot.ly",
        "plotlyServerURL": "https://plot.ly",
        "showLink": false
       },
       "data": [
        {
         "marker": {
          "color": [
           "Red",
           "Blue",
           "Yellow",
           "red",
           "blue"
          ]
         },
         "name": "Distribution of data for different attempt ranges",
         "text": [
          74776,
          42570,
          12638,
          4889,
          2574,
          2201
         ],
         "type": "bar",
         "x": [
          1,
          2,
          3,
          4,
          6,
          5
         ],
         "y": [
          74776,
          42570,
          12638,
          4889,
          2574,
          2201
         ]
        }
       ],
       "layout": {
        "hovermode": "closest",
        "template": {
         "data": {
          "bar": [
           {
            "error_x": {
             "color": "#2a3f5f"
            },
            "error_y": {
             "color": "#2a3f5f"
            },
            "marker": {
             "line": {
              "color": "#E5ECF6",
              "width": 0.5
             }
            },
            "type": "bar"
           }
          ],
          "barpolar": [
           {
            "marker": {
             "line": {
              "color": "#E5ECF6",
              "width": 0.5
             }
            },
            "type": "barpolar"
           }
          ],
          "carpet": [
           {
            "aaxis": {
             "endlinecolor": "#2a3f5f",
             "gridcolor": "white",
             "linecolor": "white",
             "minorgridcolor": "white",
             "startlinecolor": "#2a3f5f"
            },
            "baxis": {
             "endlinecolor": "#2a3f5f",
             "gridcolor": "white",
             "linecolor": "white",
             "minorgridcolor": "white",
             "startlinecolor": "#2a3f5f"
            },
            "type": "carpet"
           }
          ],
          "choropleth": [
           {
            "colorbar": {
             "outlinewidth": 0,
             "ticks": ""
            },
            "type": "choropleth"
           }
          ],
          "contour": [
           {
            "colorbar": {
             "outlinewidth": 0,
             "ticks": ""
            },
            "colorscale": [
             [
              0,
              "#0d0887"
             ],
             [
              0.1111111111111111,
              "#46039f"
             ],
             [
              0.2222222222222222,
              "#7201a8"
             ],
             [
              0.3333333333333333,
              "#9c179e"
             ],
             [
              0.4444444444444444,
              "#bd3786"
             ],
             [
              0.5555555555555556,
              "#d8576b"
             ],
             [
              0.6666666666666666,
              "#ed7953"
             ],
             [
              0.7777777777777778,
              "#fb9f3a"
             ],
             [
              0.8888888888888888,
              "#fdca26"
             ],
             [
              1,
              "#f0f921"
             ]
            ],
            "type": "contour"
           }
          ],
          "contourcarpet": [
           {
            "colorbar": {
             "outlinewidth": 0,
             "ticks": ""
            },
            "type": "contourcarpet"
           }
          ],
          "heatmap": [
           {
            "colorbar": {
             "outlinewidth": 0,
             "ticks": ""
            },
            "colorscale": [
             [
              0,
              "#0d0887"
             ],
             [
              0.1111111111111111,
              "#46039f"
             ],
             [
              0.2222222222222222,
              "#7201a8"
             ],
             [
              0.3333333333333333,
              "#9c179e"
             ],
             [
              0.4444444444444444,
              "#bd3786"
             ],
             [
              0.5555555555555556,
              "#d8576b"
             ],
             [
              0.6666666666666666,
              "#ed7953"
             ],
             [
              0.7777777777777778,
              "#fb9f3a"
             ],
             [
              0.8888888888888888,
              "#fdca26"
             ],
             [
              1,
              "#f0f921"
             ]
            ],
            "type": "heatmap"
           }
          ],
          "heatmapgl": [
           {
            "colorbar": {
             "outlinewidth": 0,
             "ticks": ""
            },
            "colorscale": [
             [
              0,
              "#0d0887"
             ],
             [
              0.1111111111111111,
              "#46039f"
             ],
             [
              0.2222222222222222,
              "#7201a8"
             ],
             [
              0.3333333333333333,
              "#9c179e"
             ],
             [
              0.4444444444444444,
              "#bd3786"
             ],
             [
              0.5555555555555556,
              "#d8576b"
             ],
             [
              0.6666666666666666,
              "#ed7953"
             ],
             [
              0.7777777777777778,
              "#fb9f3a"
             ],
             [
              0.8888888888888888,
              "#fdca26"
             ],
             [
              1,
              "#f0f921"
             ]
            ],
            "type": "heatmapgl"
           }
          ],
          "histogram": [
           {
            "marker": {
             "colorbar": {
              "outlinewidth": 0,
              "ticks": ""
             }
            },
            "type": "histogram"
           }
          ],
          "histogram2d": [
           {
            "colorbar": {
             "outlinewidth": 0,
             "ticks": ""
            },
            "colorscale": [
             [
              0,
              "#0d0887"
             ],
             [
              0.1111111111111111,
              "#46039f"
             ],
             [
              0.2222222222222222,
              "#7201a8"
             ],
             [
              0.3333333333333333,
              "#9c179e"
             ],
             [
              0.4444444444444444,
              "#bd3786"
             ],
             [
              0.5555555555555556,
              "#d8576b"
             ],
             [
              0.6666666666666666,
              "#ed7953"
             ],
             [
              0.7777777777777778,
              "#fb9f3a"
             ],
             [
              0.8888888888888888,
              "#fdca26"
             ],
             [
              1,
              "#f0f921"
             ]
            ],
            "type": "histogram2d"
           }
          ],
          "histogram2dcontour": [
           {
            "colorbar": {
             "outlinewidth": 0,
             "ticks": ""
            },
            "colorscale": [
             [
              0,
              "#0d0887"
             ],
             [
              0.1111111111111111,
              "#46039f"
             ],
             [
              0.2222222222222222,
              "#7201a8"
             ],
             [
              0.3333333333333333,
              "#9c179e"
             ],
             [
              0.4444444444444444,
              "#bd3786"
             ],
             [
              0.5555555555555556,
              "#d8576b"
             ],
             [
              0.6666666666666666,
              "#ed7953"
             ],
             [
              0.7777777777777778,
              "#fb9f3a"
             ],
             [
              0.8888888888888888,
              "#fdca26"
             ],
             [
              1,
              "#f0f921"
             ]
            ],
            "type": "histogram2dcontour"
           }
          ],
          "mesh3d": [
           {
            "colorbar": {
             "outlinewidth": 0,
             "ticks": ""
            },
            "type": "mesh3d"
           }
          ],
          "parcoords": [
           {
            "line": {
             "colorbar": {
              "outlinewidth": 0,
              "ticks": ""
             }
            },
            "type": "parcoords"
           }
          ],
          "pie": [
           {
            "automargin": true,
            "type": "pie"
           }
          ],
          "scatter": [
           {
            "marker": {
             "colorbar": {
              "outlinewidth": 0,
              "ticks": ""
             }
            },
            "type": "scatter"
           }
          ],
          "scatter3d": [
           {
            "line": {
             "colorbar": {
              "outlinewidth": 0,
              "ticks": ""
             }
            },
            "marker": {
             "colorbar": {
              "outlinewidth": 0,
              "ticks": ""
             }
            },
            "type": "scatter3d"
           }
          ],
          "scattercarpet": [
           {
            "marker": {
             "colorbar": {
              "outlinewidth": 0,
              "ticks": ""
             }
            },
            "type": "scattercarpet"
           }
          ],
          "scattergeo": [
           {
            "marker": {
             "colorbar": {
              "outlinewidth": 0,
              "ticks": ""
             }
            },
            "type": "scattergeo"
           }
          ],
          "scattergl": [
           {
            "marker": {
             "colorbar": {
              "outlinewidth": 0,
              "ticks": ""
             }
            },
            "type": "scattergl"
           }
          ],
          "scattermapbox": [
           {
            "marker": {
             "colorbar": {
              "outlinewidth": 0,
              "ticks": ""
             }
            },
            "type": "scattermapbox"
           }
          ],
          "scatterpolar": [
           {
            "marker": {
             "colorbar": {
              "outlinewidth": 0,
              "ticks": ""
             }
            },
            "type": "scatterpolar"
           }
          ],
          "scatterpolargl": [
           {
            "marker": {
             "colorbar": {
              "outlinewidth": 0,
              "ticks": ""
             }
            },
            "type": "scatterpolargl"
           }
          ],
          "scatterternary": [
           {
            "marker": {
             "colorbar": {
              "outlinewidth": 0,
              "ticks": ""
             }
            },
            "type": "scatterternary"
           }
          ],
          "surface": [
           {
            "colorbar": {
             "outlinewidth": 0,
             "ticks": ""
            },
            "colorscale": [
             [
              0,
              "#0d0887"
             ],
             [
              0.1111111111111111,
              "#46039f"
             ],
             [
              0.2222222222222222,
              "#7201a8"
             ],
             [
              0.3333333333333333,
              "#9c179e"
             ],
             [
              0.4444444444444444,
              "#bd3786"
             ],
             [
              0.5555555555555556,
              "#d8576b"
             ],
             [
              0.6666666666666666,
              "#ed7953"
             ],
             [
              0.7777777777777778,
              "#fb9f3a"
             ],
             [
              0.8888888888888888,
              "#fdca26"
             ],
             [
              1,
              "#f0f921"
             ]
            ],
            "type": "surface"
           }
          ],
          "table": [
           {
            "cells": {
             "fill": {
              "color": "#EBF0F8"
             },
             "line": {
              "color": "white"
             }
            },
            "header": {
             "fill": {
              "color": "#C8D4E3"
             },
             "line": {
              "color": "white"
             }
            },
            "type": "table"
           }
          ]
         },
         "layout": {
          "annotationdefaults": {
           "arrowcolor": "#2a3f5f",
           "arrowhead": 0,
           "arrowwidth": 1
          },
          "coloraxis": {
           "colorbar": {
            "outlinewidth": 0,
            "ticks": ""
           }
          },
          "colorscale": {
           "diverging": [
            [
             0,
             "#8e0152"
            ],
            [
             0.1,
             "#c51b7d"
            ],
            [
             0.2,
             "#de77ae"
            ],
            [
             0.3,
             "#f1b6da"
            ],
            [
             0.4,
             "#fde0ef"
            ],
            [
             0.5,
             "#f7f7f7"
            ],
            [
             0.6,
             "#e6f5d0"
            ],
            [
             0.7,
             "#b8e186"
            ],
            [
             0.8,
             "#7fbc41"
            ],
            [
             0.9,
             "#4d9221"
            ],
            [
             1,
             "#276419"
            ]
           ],
           "sequential": [
            [
             0,
             "#0d0887"
            ],
            [
             0.1111111111111111,
             "#46039f"
            ],
            [
             0.2222222222222222,
             "#7201a8"
            ],
            [
             0.3333333333333333,
             "#9c179e"
            ],
            [
             0.4444444444444444,
             "#bd3786"
            ],
            [
             0.5555555555555556,
             "#d8576b"
            ],
            [
             0.6666666666666666,
             "#ed7953"
            ],
            [
             0.7777777777777778,
             "#fb9f3a"
            ],
            [
             0.8888888888888888,
             "#fdca26"
            ],
            [
             1,
             "#f0f921"
            ]
           ],
           "sequentialminus": [
            [
             0,
             "#0d0887"
            ],
            [
             0.1111111111111111,
             "#46039f"
            ],
            [
             0.2222222222222222,
             "#7201a8"
            ],
            [
             0.3333333333333333,
             "#9c179e"
            ],
            [
             0.4444444444444444,
             "#bd3786"
            ],
            [
             0.5555555555555556,
             "#d8576b"
            ],
            [
             0.6666666666666666,
             "#ed7953"
            ],
            [
             0.7777777777777778,
             "#fb9f3a"
            ],
            [
             0.8888888888888888,
             "#fdca26"
            ],
            [
             1,
             "#f0f921"
            ]
           ]
          },
          "colorway": [
           "#636efa",
           "#EF553B",
           "#00cc96",
           "#ab63fa",
           "#FFA15A",
           "#19d3f3",
           "#FF6692",
           "#B6E880",
           "#FF97FF",
           "#FECB52"
          ],
          "font": {
           "color": "#2a3f5f"
          },
          "geo": {
           "bgcolor": "white",
           "lakecolor": "white",
           "landcolor": "#E5ECF6",
           "showlakes": true,
           "showland": true,
           "subunitcolor": "white"
          },
          "hoverlabel": {
           "align": "left"
          },
          "hovermode": "closest",
          "mapbox": {
           "style": "light"
          },
          "paper_bgcolor": "white",
          "plot_bgcolor": "#E5ECF6",
          "polar": {
           "angularaxis": {
            "gridcolor": "white",
            "linecolor": "white",
            "ticks": ""
           },
           "bgcolor": "#E5ECF6",
           "radialaxis": {
            "gridcolor": "white",
            "linecolor": "white",
            "ticks": ""
           }
          },
          "scene": {
           "xaxis": {
            "backgroundcolor": "#E5ECF6",
            "gridcolor": "white",
            "gridwidth": 2,
            "linecolor": "white",
            "showbackground": true,
            "ticks": "",
            "zerolinecolor": "white"
           },
           "yaxis": {
            "backgroundcolor": "#E5ECF6",
            "gridcolor": "white",
            "gridwidth": 2,
            "linecolor": "white",
            "showbackground": true,
            "ticks": "",
            "zerolinecolor": "white"
           },
           "zaxis": {
            "backgroundcolor": "#E5ECF6",
            "gridcolor": "white",
            "gridwidth": 2,
            "linecolor": "white",
            "showbackground": true,
            "ticks": "",
            "zerolinecolor": "white"
           }
          },
          "shapedefaults": {
           "line": {
            "color": "#2a3f5f"
           }
          },
          "ternary": {
           "aaxis": {
            "gridcolor": "white",
            "linecolor": "white",
            "ticks": ""
           },
           "baxis": {
            "gridcolor": "white",
            "linecolor": "white",
            "ticks": ""
           },
           "bgcolor": "#E5ECF6",
           "caxis": {
            "gridcolor": "white",
            "linecolor": "white",
            "ticks": ""
           }
          },
          "title": {
           "x": 0.05
          },
          "xaxis": {
           "automargin": true,
           "gridcolor": "white",
           "linecolor": "white",
           "ticks": "",
           "title": {
            "standoff": 15
           },
           "zerolinecolor": "white",
           "zerolinewidth": 2
          },
          "yaxis": {
           "automargin": true,
           "gridcolor": "white",
           "linecolor": "white",
           "ticks": "",
           "title": {
            "standoff": 15
           },
           "zerolinecolor": "white",
           "zerolinewidth": 2
          }
         }
        },
        "title": {
         "text": "Distribution of attempt range"
        },
        "width": 600,
        "xaxis": {
         "showticklabels": true,
         "title": {
          "text": "class"
         }
        },
        "yaxis": {
         "title": {
          "text": "Number of Records"
         }
        }
       }
      },
      "text/html": [
       "<div>\n",
       "        \n",
       "        \n",
       "            <div id=\"be2bad0d-e3f0-4bef-aac5-3ab39d1fbded\" class=\"plotly-graph-div\" style=\"height:525px; width:600px;\"></div>\n",
       "            <script type=\"text/javascript\">\n",
       "                require([\"plotly\"], function(Plotly) {\n",
       "                    window.PLOTLYENV=window.PLOTLYENV || {};\n",
       "                    \n",
       "                if (document.getElementById(\"be2bad0d-e3f0-4bef-aac5-3ab39d1fbded\")) {\n",
       "                    Plotly.newPlot(\n",
       "                        'be2bad0d-e3f0-4bef-aac5-3ab39d1fbded',\n",
       "                        [{\"marker\": {\"color\": [\"Red\", \"Blue\", \"Yellow\", \"red\", \"blue\"]}, \"name\": \"Distribution of data for different attempt ranges\", \"text\": [74776.0, 42570.0, 12638.0, 4889.0, 2574.0, 2201.0], \"type\": \"bar\", \"x\": [1, 2, 3, 4, 6, 5], \"y\": [74776, 42570, 12638, 4889, 2574, 2201]}],\n",
       "                        {\"hovermode\": \"closest\", \"template\": {\"data\": {\"bar\": [{\"error_x\": {\"color\": \"#2a3f5f\"}, \"error_y\": {\"color\": \"#2a3f5f\"}, \"marker\": {\"line\": {\"color\": \"#E5ECF6\", \"width\": 0.5}}, \"type\": \"bar\"}], \"barpolar\": [{\"marker\": {\"line\": {\"color\": \"#E5ECF6\", \"width\": 0.5}}, \"type\": \"barpolar\"}], \"carpet\": [{\"aaxis\": {\"endlinecolor\": \"#2a3f5f\", \"gridcolor\": \"white\", \"linecolor\": \"white\", \"minorgridcolor\": \"white\", \"startlinecolor\": \"#2a3f5f\"}, \"baxis\": {\"endlinecolor\": \"#2a3f5f\", \"gridcolor\": \"white\", \"linecolor\": \"white\", \"minorgridcolor\": \"white\", \"startlinecolor\": \"#2a3f5f\"}, \"type\": \"carpet\"}], \"choropleth\": [{\"colorbar\": {\"outlinewidth\": 0, \"ticks\": \"\"}, \"type\": \"choropleth\"}], \"contour\": [{\"colorbar\": {\"outlinewidth\": 0, \"ticks\": \"\"}, \"colorscale\": [[0.0, \"#0d0887\"], [0.1111111111111111, \"#46039f\"], [0.2222222222222222, \"#7201a8\"], [0.3333333333333333, \"#9c179e\"], [0.4444444444444444, \"#bd3786\"], [0.5555555555555556, \"#d8576b\"], [0.6666666666666666, \"#ed7953\"], [0.7777777777777778, \"#fb9f3a\"], [0.8888888888888888, \"#fdca26\"], [1.0, \"#f0f921\"]], \"type\": \"contour\"}], \"contourcarpet\": [{\"colorbar\": {\"outlinewidth\": 0, \"ticks\": \"\"}, \"type\": \"contourcarpet\"}], \"heatmap\": [{\"colorbar\": {\"outlinewidth\": 0, \"ticks\": \"\"}, \"colorscale\": [[0.0, \"#0d0887\"], [0.1111111111111111, \"#46039f\"], [0.2222222222222222, \"#7201a8\"], [0.3333333333333333, \"#9c179e\"], [0.4444444444444444, \"#bd3786\"], [0.5555555555555556, \"#d8576b\"], [0.6666666666666666, \"#ed7953\"], [0.7777777777777778, \"#fb9f3a\"], [0.8888888888888888, \"#fdca26\"], [1.0, \"#f0f921\"]], \"type\": \"heatmap\"}], \"heatmapgl\": [{\"colorbar\": {\"outlinewidth\": 0, \"ticks\": \"\"}, \"colorscale\": [[0.0, \"#0d0887\"], [0.1111111111111111, \"#46039f\"], [0.2222222222222222, \"#7201a8\"], [0.3333333333333333, \"#9c179e\"], [0.4444444444444444, \"#bd3786\"], [0.5555555555555556, \"#d8576b\"], [0.6666666666666666, \"#ed7953\"], [0.7777777777777778, \"#fb9f3a\"], [0.8888888888888888, \"#fdca26\"], [1.0, \"#f0f921\"]], \"type\": \"heatmapgl\"}], \"histogram\": [{\"marker\": {\"colorbar\": {\"outlinewidth\": 0, \"ticks\": \"\"}}, \"type\": \"histogram\"}], \"histogram2d\": [{\"colorbar\": {\"outlinewidth\": 0, \"ticks\": \"\"}, \"colorscale\": [[0.0, \"#0d0887\"], [0.1111111111111111, \"#46039f\"], [0.2222222222222222, \"#7201a8\"], [0.3333333333333333, \"#9c179e\"], [0.4444444444444444, \"#bd3786\"], [0.5555555555555556, \"#d8576b\"], [0.6666666666666666, \"#ed7953\"], [0.7777777777777778, \"#fb9f3a\"], [0.8888888888888888, \"#fdca26\"], [1.0, \"#f0f921\"]], \"type\": \"histogram2d\"}], \"histogram2dcontour\": [{\"colorbar\": {\"outlinewidth\": 0, \"ticks\": \"\"}, \"colorscale\": [[0.0, \"#0d0887\"], [0.1111111111111111, \"#46039f\"], [0.2222222222222222, \"#7201a8\"], [0.3333333333333333, \"#9c179e\"], [0.4444444444444444, \"#bd3786\"], [0.5555555555555556, \"#d8576b\"], [0.6666666666666666, \"#ed7953\"], [0.7777777777777778, \"#fb9f3a\"], [0.8888888888888888, \"#fdca26\"], [1.0, \"#f0f921\"]], \"type\": \"histogram2dcontour\"}], \"mesh3d\": [{\"colorbar\": {\"outlinewidth\": 0, \"ticks\": \"\"}, \"type\": \"mesh3d\"}], \"parcoords\": [{\"line\": {\"colorbar\": {\"outlinewidth\": 0, \"ticks\": \"\"}}, \"type\": \"parcoords\"}], \"pie\": [{\"automargin\": true, \"type\": \"pie\"}], \"scatter\": [{\"marker\": {\"colorbar\": {\"outlinewidth\": 0, \"ticks\": \"\"}}, \"type\": \"scatter\"}], \"scatter3d\": [{\"line\": {\"colorbar\": {\"outlinewidth\": 0, \"ticks\": \"\"}}, \"marker\": {\"colorbar\": {\"outlinewidth\": 0, \"ticks\": \"\"}}, \"type\": \"scatter3d\"}], \"scattercarpet\": [{\"marker\": {\"colorbar\": {\"outlinewidth\": 0, \"ticks\": \"\"}}, \"type\": \"scattercarpet\"}], \"scattergeo\": [{\"marker\": {\"colorbar\": {\"outlinewidth\": 0, \"ticks\": \"\"}}, \"type\": \"scattergeo\"}], \"scattergl\": [{\"marker\": {\"colorbar\": {\"outlinewidth\": 0, \"ticks\": \"\"}}, \"type\": \"scattergl\"}], \"scattermapbox\": [{\"marker\": {\"colorbar\": {\"outlinewidth\": 0, \"ticks\": \"\"}}, \"type\": \"scattermapbox\"}], \"scatterpolar\": [{\"marker\": {\"colorbar\": {\"outlinewidth\": 0, \"ticks\": \"\"}}, \"type\": \"scatterpolar\"}], \"scatterpolargl\": [{\"marker\": {\"colorbar\": {\"outlinewidth\": 0, \"ticks\": \"\"}}, \"type\": \"scatterpolargl\"}], \"scatterternary\": [{\"marker\": {\"colorbar\": {\"outlinewidth\": 0, \"ticks\": \"\"}}, \"type\": \"scatterternary\"}], \"surface\": [{\"colorbar\": {\"outlinewidth\": 0, \"ticks\": \"\"}, \"colorscale\": [[0.0, \"#0d0887\"], [0.1111111111111111, \"#46039f\"], [0.2222222222222222, \"#7201a8\"], [0.3333333333333333, \"#9c179e\"], [0.4444444444444444, \"#bd3786\"], [0.5555555555555556, \"#d8576b\"], [0.6666666666666666, \"#ed7953\"], [0.7777777777777778, \"#fb9f3a\"], [0.8888888888888888, \"#fdca26\"], [1.0, \"#f0f921\"]], \"type\": \"surface\"}], \"table\": [{\"cells\": {\"fill\": {\"color\": \"#EBF0F8\"}, \"line\": {\"color\": \"white\"}}, \"header\": {\"fill\": {\"color\": \"#C8D4E3\"}, \"line\": {\"color\": \"white\"}}, \"type\": \"table\"}]}, \"layout\": {\"annotationdefaults\": {\"arrowcolor\": \"#2a3f5f\", \"arrowhead\": 0, \"arrowwidth\": 1}, \"coloraxis\": {\"colorbar\": {\"outlinewidth\": 0, \"ticks\": \"\"}}, \"colorscale\": {\"diverging\": [[0, \"#8e0152\"], [0.1, \"#c51b7d\"], [0.2, \"#de77ae\"], [0.3, \"#f1b6da\"], [0.4, \"#fde0ef\"], [0.5, \"#f7f7f7\"], [0.6, \"#e6f5d0\"], [0.7, \"#b8e186\"], [0.8, \"#7fbc41\"], [0.9, \"#4d9221\"], [1, \"#276419\"]], \"sequential\": [[0.0, \"#0d0887\"], [0.1111111111111111, \"#46039f\"], [0.2222222222222222, \"#7201a8\"], [0.3333333333333333, \"#9c179e\"], [0.4444444444444444, \"#bd3786\"], [0.5555555555555556, \"#d8576b\"], [0.6666666666666666, \"#ed7953\"], [0.7777777777777778, \"#fb9f3a\"], [0.8888888888888888, \"#fdca26\"], [1.0, \"#f0f921\"]], \"sequentialminus\": [[0.0, \"#0d0887\"], [0.1111111111111111, \"#46039f\"], [0.2222222222222222, \"#7201a8\"], [0.3333333333333333, \"#9c179e\"], [0.4444444444444444, \"#bd3786\"], [0.5555555555555556, \"#d8576b\"], [0.6666666666666666, \"#ed7953\"], [0.7777777777777778, \"#fb9f3a\"], [0.8888888888888888, \"#fdca26\"], [1.0, \"#f0f921\"]]}, \"colorway\": [\"#636efa\", \"#EF553B\", \"#00cc96\", \"#ab63fa\", \"#FFA15A\", \"#19d3f3\", \"#FF6692\", \"#B6E880\", \"#FF97FF\", \"#FECB52\"], \"font\": {\"color\": \"#2a3f5f\"}, \"geo\": {\"bgcolor\": \"white\", \"lakecolor\": \"white\", \"landcolor\": \"#E5ECF6\", \"showlakes\": true, \"showland\": true, \"subunitcolor\": \"white\"}, \"hoverlabel\": {\"align\": \"left\"}, \"hovermode\": \"closest\", \"mapbox\": {\"style\": \"light\"}, \"paper_bgcolor\": \"white\", \"plot_bgcolor\": \"#E5ECF6\", \"polar\": {\"angularaxis\": {\"gridcolor\": \"white\", \"linecolor\": \"white\", \"ticks\": \"\"}, \"bgcolor\": \"#E5ECF6\", \"radialaxis\": {\"gridcolor\": \"white\", \"linecolor\": \"white\", \"ticks\": \"\"}}, \"scene\": {\"xaxis\": {\"backgroundcolor\": \"#E5ECF6\", \"gridcolor\": \"white\", \"gridwidth\": 2, \"linecolor\": \"white\", \"showbackground\": true, \"ticks\": \"\", \"zerolinecolor\": \"white\"}, \"yaxis\": {\"backgroundcolor\": \"#E5ECF6\", \"gridcolor\": \"white\", \"gridwidth\": 2, \"linecolor\": \"white\", \"showbackground\": true, \"ticks\": \"\", \"zerolinecolor\": \"white\"}, \"zaxis\": {\"backgroundcolor\": \"#E5ECF6\", \"gridcolor\": \"white\", \"gridwidth\": 2, \"linecolor\": \"white\", \"showbackground\": true, \"ticks\": \"\", \"zerolinecolor\": \"white\"}}, \"shapedefaults\": {\"line\": {\"color\": \"#2a3f5f\"}}, \"ternary\": {\"aaxis\": {\"gridcolor\": \"white\", \"linecolor\": \"white\", \"ticks\": \"\"}, \"baxis\": {\"gridcolor\": \"white\", \"linecolor\": \"white\", \"ticks\": \"\"}, \"bgcolor\": \"#E5ECF6\", \"caxis\": {\"gridcolor\": \"white\", \"linecolor\": \"white\", \"ticks\": \"\"}}, \"title\": {\"x\": 0.05}, \"xaxis\": {\"automargin\": true, \"gridcolor\": \"white\", \"linecolor\": \"white\", \"ticks\": \"\", \"title\": {\"standoff\": 15}, \"zerolinecolor\": \"white\", \"zerolinewidth\": 2}, \"yaxis\": {\"automargin\": true, \"gridcolor\": \"white\", \"linecolor\": \"white\", \"ticks\": \"\", \"title\": {\"standoff\": 15}, \"zerolinecolor\": \"white\", \"zerolinewidth\": 2}}}, \"title\": {\"text\": \"Distribution of attempt range\"}, \"width\": 600, \"xaxis\": {\"showticklabels\": true, \"title\": {\"text\": \"class\"}}, \"yaxis\": {\"title\": {\"text\": \"Number of Records\"}}},\n",
       "                        {\"responsive\": true}\n",
       "                    ).then(function(){\n",
       "                            \n",
       "var gd = document.getElementById('be2bad0d-e3f0-4bef-aac5-3ab39d1fbded');\n",
       "var x = new MutationObserver(function (mutations, observer) {{\n",
       "        var display = window.getComputedStyle(gd).display;\n",
       "        if (!display || display === 'none') {{\n",
       "            console.log([gd, 'removed!']);\n",
       "            Plotly.purge(gd);\n",
       "            observer.disconnect();\n",
       "        }}\n",
       "}});\n",
       "\n",
       "// Listen for the removal of the full notebook cells\n",
       "var notebookContainer = gd.closest('#notebook-container');\n",
       "if (notebookContainer) {{\n",
       "    x.observe(notebookContainer, {childList: true});\n",
       "}}\n",
       "\n",
       "// Listen for the clearing of the current output cell\n",
       "var outputEl = gd.closest('.output');\n",
       "if (outputEl) {{\n",
       "    x.observe(outputEl, {childList: true});\n",
       "}}\n",
       "\n",
       "                        })\n",
       "                };\n",
       "                });\n",
       "            </script>\n",
       "        </div>"
      ]
     },
     "metadata": {},
     "output_type": "display_data"
    }
   ],
   "source": [
    "layout = dict(title = \"Distribution of attempt range\",\n",
    "          xaxis = dict(title = 'class', showticklabels=True), \n",
    "          yaxis = dict(title = 'Number of Records'),\n",
    "          hovermode = 'closest',width=600\n",
    "         )\n",
    "fig = dict(data=data, layout=layout)\n",
    "iplot(fig, filename='class')"
   ]
  },
  {
   "cell_type": "code",
   "execution_count": 103,
   "metadata": {},
   "outputs": [
    {
     "data": {
      "text/plain": [
       "contribution                 329.846940\n",
       "attempts_range                 1.138287\n",
       "*special                       0.006227\n",
       "2-sat                          0.002835\n",
       "binary search                  0.078476\n",
       "                                ...    \n",
       "max_rating                     1.000007\n",
       "rating                         1.000007\n",
       "registration_time_seconds      1.000007\n",
       "follower_count                 1.000007\n",
       "points                         1.000007\n",
       "Length: 64, dtype: float64"
      ]
     },
     "execution_count": 103,
     "metadata": {},
     "output_type": "execute_result"
    }
   ],
   "source": [
    "final_data.var()"
   ]
  },
  {
   "cell_type": "code",
   "execution_count": 98,
   "metadata": {},
   "outputs": [
    {
     "data": {
      "text/plain": [
       "(139648, 67)"
      ]
     },
     "execution_count": 98,
     "metadata": {},
     "output_type": "execute_result"
    }
   ],
   "source": [
    "final_data.shape"
   ]
  },
  {
   "cell_type": "code",
   "execution_count": 104,
   "metadata": {},
   "outputs": [
    {
     "data": {
      "text/plain": [
       "contribution                 329.846940\n",
       "attempts_range                 1.138287\n",
       "*special                       0.006227\n",
       "2-sat                          0.002835\n",
       "binary search                  0.078476\n",
       "                                ...    \n",
       "max_rating                     1.000007\n",
       "rating                         1.000007\n",
       "registration_time_seconds      1.000007\n",
       "follower_count                 1.000007\n",
       "points                         1.000007\n",
       "Length: 64, dtype: float64"
      ]
     },
     "execution_count": 104,
     "metadata": {},
     "output_type": "execute_result"
    }
   ],
   "source": [
    "variance_data= final_data.var()\n",
    "variance_data"
   ]
  },
  {
   "cell_type": "code",
   "execution_count": 157,
   "metadata": {},
   "outputs": [
    {
     "data": {
      "text/plain": [
       "['problem_id',\n",
       " 'attempts_range',\n",
       " 'bitmasks',\n",
       " 'data structures',\n",
       " 'dp',\n",
       " 'dsu',\n",
       " 'expression parsing',\n",
       " 'games',\n",
       " 'implementation',\n",
       " 'math',\n",
       " 'number theory',\n",
       " 'shortest paths',\n",
       " 'string suffix structures',\n",
       " 'level_type_D',\n",
       " 'level_type_E',\n",
       " 'level_type_F',\n",
       " 'level_type_G',\n",
       " 'level_type_H',\n",
       " 'level_type_I',\n",
       " 'level_type_J',\n",
       " 'level_type_K',\n",
       " 'level_type_L']"
      ]
     },
     "execution_count": 157,
     "metadata": {},
     "output_type": "execute_result"
    }
   ],
   "source": [
    "variance_data= final_data.var()\n",
    "final_data_columns = final_data.columns\n",
    "variable = [ ]\n",
    "for i in range(0,len(variance_data)):\n",
    "    if variance_data[i]< 0.01:   #setting the threshold as 5%\n",
    "       variable.append(final_data_columns[i+1])\n",
    "variable"
   ]
  },
  {
   "cell_type": "code",
   "execution_count": 135,
   "metadata": {},
   "outputs": [
    {
     "name": "stdout",
     "output_type": "stream",
     "text": [
      "['rank_intermediate', 'problem_solved', 'max_rating', 'rating', 'country']\n"
     ]
    }
   ],
   "source": [
    "# find correlation between fields\n",
    "corr_matrix=final_data.corr().abs()\n",
    "\n",
    "# Select upper triangle of correlation matrix\n",
    "upper = corr_matrix.where(np.triu(np.ones(corr_matrix.shape), k=1).astype(np.bool))\n",
    "\n",
    "# Find index of feature columns with correlation greater than 0.6\n",
    "to_drop = [column for column in upper.columns if any(upper[column] > 0.6)]\n",
    "to_drop.append(\"country\")\n",
    "print(to_drop)"
   ]
  },
  {
   "cell_type": "code",
   "execution_count": 28,
   "metadata": {},
   "outputs": [
    {
     "data": {
      "text/plain": [
       "Index(['user_id', 'contribution', 'country', 'follower_count', 'problem_id',\n",
       "       'attempts_range', 'points', '*special', '2-sat', 'binary search',\n",
       "       'bitmasks', 'brute force', 'chinese remainder theorem', 'combinatorics',\n",
       "       'constructive algorithms', 'data structures', 'dfs and similar',\n",
       "       'divide and conquer', 'dp', 'dsu', 'expression parsing', 'fft', 'flows',\n",
       "       'games', 'geometry', 'graph matchings', 'graphs', 'greedy', 'hashing',\n",
       "       'implementation', 'math', 'matrices', 'meet-in-the-middle',\n",
       "       'number theory', 'probabilities', 'schedules', 'shortest paths',\n",
       "       'sortings', 'string suffix structures', 'strings', 'ternary search',\n",
       "       'trees', 'two pointers', 'level_type_A', 'level_type_B', 'level_type_C',\n",
       "       'level_type_D', 'level_type_E', 'level_type_F', 'level_type_G',\n",
       "       'level_type_H', 'level_type_I', 'level_type_J', 'level_type_K',\n",
       "       'level_type_L', 'level_type_M', 'level_type_N', 'rank_advanced',\n",
       "       'rank_beginner', 'rank_expert', 'rank_intermediate', 'submission_count',\n",
       "       'problem_solved', 'last_online_time_seconds', 'max_rating', 'rating',\n",
       "       'registration_time_seconds'],\n",
       "      dtype='object')"
      ]
     },
     "execution_count": 28,
     "metadata": {},
     "output_type": "execute_result"
    }
   ],
   "source": [
    "final_data.columns"
   ]
  },
  {
   "cell_type": "code",
   "execution_count": 165,
   "metadata": {},
   "outputs": [],
   "source": [
    "# drop columns based on variance and correlation\n",
    "\n",
    "drop_columns=[\n",
    " 'bitmasks',\n",
    " 'dsu',\n",
    " 'math',\n",
    " 'number theory',\n",
    " 'level_type_F',\n",
    " 'level_type_G',\n",
    " 'level_type_H',\n",
    " 'level_type_I',\n",
    " 'level_type_J',\n",
    " 'level_type_K',\n",
    " 'level_type_L','country','rank_intermediate', 'problem_solved', 'max_rating', 'rating','problem_id','user_id'\n",
    "]\n",
    "\n",
    "for i in drop_columns:\n",
    "     final_data_v1=final_data.drop(i,1)\n"
   ]
  },
  {
   "cell_type": "code",
   "execution_count": 166,
   "metadata": {},
   "outputs": [
    {
     "data": {
      "text/plain": [
       "Index(['contribution', 'country', 'problem_id', 'attempts_range', '*special',\n",
       "       '2-sat', 'binary search', 'bitmasks', 'brute force',\n",
       "       'chinese remainder theorem', 'combinatorics', 'constructive algorithms',\n",
       "       'data structures', 'dfs and similar', 'divide and conquer', 'dp', 'dsu',\n",
       "       'expression parsing', 'fft', 'flows', 'games', 'geometry',\n",
       "       'graph matchings', 'graphs', 'greedy', 'hashing', 'implementation',\n",
       "       'math', 'matrices', 'meet-in-the-middle', 'number theory',\n",
       "       'probabilities', 'schedules', 'shortest paths', 'sortings',\n",
       "       'string suffix structures', 'strings', 'ternary search', 'trees',\n",
       "       'two pointers', 'level_type_A', 'level_type_B', 'level_type_C',\n",
       "       'level_type_D', 'level_type_E', 'level_type_F', 'level_type_G',\n",
       "       'level_type_H', 'level_type_I', 'level_type_J', 'level_type_K',\n",
       "       'level_type_L', 'level_type_M', 'level_type_N', 'rank_advanced',\n",
       "       'rank_beginner', 'rank_expert', 'rank_intermediate', 'submission_count',\n",
       "       'problem_solved', 'last_online_time_seconds', 'max_rating', 'rating',\n",
       "       'registration_time_seconds', 'follower_count', 'points'],\n",
       "      dtype='object')"
      ]
     },
     "execution_count": 166,
     "metadata": {},
     "output_type": "execute_result"
    }
   ],
   "source": [
    "final_data_v1.columns"
   ]
  },
  {
   "cell_type": "code",
   "execution_count": 168,
   "metadata": {},
   "outputs": [
    {
     "data": {
      "text/plain": [
       "(167898, 67)"
      ]
     },
     "execution_count": 168,
     "metadata": {},
     "output_type": "execute_result"
    }
   ],
   "source": [
    "df_upsampled.shape"
   ]
  },
  {
   "cell_type": "code",
   "execution_count": 179,
   "metadata": {},
   "outputs": [],
   "source": [
    "f_dataset_independent_variables=df_upsampled[[ 'contribution', '*special',\n",
    "       '2-sat', 'binary search', 'bitmasks', 'brute force',\n",
    "       'chinese remainder theorem', 'combinatorics', 'constructive algorithms',\n",
    "       'data structures', 'dfs and similar', 'divide and conquer', 'dp', 'dsu',\n",
    "       'expression parsing', 'fft', 'flows', 'games', 'geometry',\n",
    "       'graph matchings', 'graphs', 'greedy', 'hashing', 'implementation',\n",
    "       'math', 'matrices', 'meet-in-the-middle', 'number theory',\n",
    "       'probabilities', 'schedules', 'shortest paths', 'sortings',\n",
    "       'string suffix structures', 'strings', 'ternary search', 'trees',\n",
    "       'two pointers', 'level_type_A', 'level_type_B', 'level_type_C',\n",
    "       'level_type_D', 'level_type_E', 'level_type_F', 'level_type_G',\n",
    "       'level_type_H', 'level_type_I', 'level_type_J', 'level_type_K',\n",
    "       'level_type_L', 'level_type_M', 'level_type_N', 'rank_advanced',\n",
    "       'rank_beginner', 'rank_expert', 'rank_intermediate', 'submission_count',\n",
    "       'problem_solved', 'last_online_time_seconds', 'max_rating', 'rating',\n",
    "       'registration_time_seconds', 'follower_count', 'points']]"
   ]
  },
  {
   "cell_type": "code",
   "execution_count": 181,
   "metadata": {},
   "outputs": [],
   "source": [
    "f_dataset_dependent_variable=df_upsampled['attempts_range']"
   ]
  },
  {
   "cell_type": "code",
   "execution_count": 196,
   "metadata": {},
   "outputs": [
    {
     "data": {
      "text/plain": [
       "(448656, 63)"
      ]
     },
     "execution_count": 196,
     "metadata": {},
     "output_type": "execute_result"
    }
   ],
   "source": [
    "f_dataset_independent_variables.shape"
   ]
  },
  {
   "cell_type": "markdown",
   "metadata": {},
   "source": [
    "## Using ML classifiers"
   ]
  },
  {
   "cell_type": "code",
   "execution_count": 151,
   "metadata": {},
   "outputs": [],
   "source": [
    "from sklearn.linear_model import LogisticRegression\n",
    "from sklearn.neighbors import KNeighborsClassifier\n",
    "from sklearn.svm import SVC, LinearSVC, NuSVC\n",
    "from sklearn.tree import DecisionTreeClassifier\n",
    "from sklearn.ensemble import RandomForestClassifier, AdaBoostClassifier, GradientBoostingClassifier\n",
    "from sklearn.naive_bayes import GaussianNB\n",
    "from sklearn.discriminant_analysis import LinearDiscriminantAnalysis\n",
    "from sklearn.discriminant_analysis import QuadraticDiscriminantAnalysis\n",
    "from sklearn.metrics import accuracy_score\n",
    "from nltk.classify.scikitlearn import SklearnClassifier #"
   ]
  },
  {
   "cell_type": "code",
   "execution_count": 174,
   "metadata": {},
   "outputs": [],
   "source": [
    "Classifiers = [\n",
    "    KNeighborsClassifier(100),\n",
    "    DecisionTreeClassifier(),\n",
    "    RandomForestClassifier(n_estimators=100, criterion='gini', max_depth=None,min_samples_split=2,\n",
    "                           min_samples_leaf=1, min_weight_fraction_leaf=0.0, max_features='auto',\n",
    "                           max_leaf_nodes=None,bootstrap=True, oob_score=False, n_jobs=1,\n",
    "                           random_state=None, verbose=0, warm_start=False,class_weight=None),\n",
    "    GaussianNB()\n",
    "]"
   ]
  },
  {
   "cell_type": "code",
   "execution_count": 183,
   "metadata": {},
   "outputs": [
    {
     "name": "stdout",
     "output_type": "stream",
     "text": [
      "[[ 9540  2438  2169  2743  3210  2258]\n",
      " [ 5645  3328  2759  3505  4068  3067]\n",
      " [ 3633  2012  4660  3863  4562  3788]\n",
      " [ 2408  1419  2352  8168  4273  3829]\n",
      " [ 1486   764  1531  2461 12681  3513]\n",
      " [ 1015   814  1397  2397  3769 13072]]\n",
      "Accuracy of KNeighborsClassifieris 0.38224477514357674\n",
      "[[11874  5897  2570  1082   488   447]\n",
      " [ 3983 16075  1184   621   268   241]\n",
      " [  488   374 21154   237   141   124]\n",
      " [   43    27    15 22175   104    85]\n",
      " [    0     0     0     9 22391    36]\n",
      " [    0    10    15    11    62 22366]]\n",
      "Accuracy of DecisionTreeClassifieris 0.8620920228534068\n",
      "[[14461  5290  1652   519   219   217]\n",
      " [ 4093 16514  1035   403   189   138]\n",
      " [  433   392 21219   239   124   111]\n",
      " [   43    27    14 22176   104    85]\n",
      " [    0     0     0     9 22391    36]\n",
      " [    0    10    15    11    62 22366]]\n",
      "Accuracy of RandomForestClassifieris 0.8850643030676761\n",
      "[[ 1985    23    96  2282 16179  1793]\n",
      " [ 1182    43   128  2708 16022  2289]\n",
      " [  875    12   135  2535 16266  2695]\n",
      " [  674    10    65  2482 16109  3109]\n",
      " [  557     0    61  1724 16233  3861]\n",
      " [  503     7    61  1699 14292  5902]]\n",
      "Accuracy of GaussianNBis 0.19896431569797246\n"
     ]
    }
   ],
   "source": [
    "dense_features=X_train\n",
    "dense_test= X_test\n",
    "Accuracy=[]\n",
    "Model=[]\n",
    "for classifier in Classifiers:\n",
    "    try:\n",
    "        fit = classifier.fit(X_train,Y_train)\n",
    "        pred = fit.predict(X_test)\n",
    "        # creating a confusion matrix   \n",
    "        cm = confusion_matrix(y_test, pred) \n",
    "        print(cm)\n",
    "    except Exception:\n",
    "        fit = classifier.fit(dense_features,Y_train)\n",
    "        pred = fit.predict(dense_test)\n",
    "    accuracy = accuracy_score(pred,Y_test)\n",
    "    Accuracy.append(accuracy)\n",
    "    Model.append(classifier.__class__.__name__)\n",
    "    print('Accuracy of '+classifier.__class__.__name__+'is '+str(accuracy))  "
   ]
  },
  {
   "cell_type": "code",
   "execution_count": 189,
   "metadata": {},
   "outputs": [
    {
     "data": {
      "text/plain": [
       "Text(0.5, 1.0, 'Accuracies of Models')"
      ]
     },
     "execution_count": 189,
     "metadata": {},
     "output_type": "execute_result"
    },
    {
     "data": {
      "image/png": "[encoded data removed]",
      "text/plain": [
       "<Figure size 432x288 with 1 Axes>"
      ]
     },
     "metadata": {
      "needs_background": "light"
     },
     "output_type": "display_data"
    }
   ],
   "source": [
    "## Plot the accuracy of the classifiers\n",
    "\n",
    "Index = [1,2,3,4]\n",
    "plt.bar(Index,Accuracy,color=(0.2, 0.4, 0.8, 0.9))\n",
    "plt.xticks(Index, Model,rotation=90)\n",
    "plt.ylabel('Accuracy')\n",
    "plt.xlabel('Model')\n",
    "plt.title('Accuracies of Models')"
   ]
  },
  {
   "cell_type": "code",
   "execution_count": 199,
   "metadata": {},
   "outputs": [
    {
     "ename": "NameError",
     "evalue": "name 'plot_confusion_matrix' is not defined",
     "output_type": "error",
     "traceback": [
      "\u001b[1;31m---------------------------------------------------------------------------\u001b[0m",
      "\u001b[1;31mNameError\u001b[0m                                 Traceback (most recent call last)",
      "\u001b[1;32m<ipython-input-199-8eae3104c7f0>\u001b[0m in \u001b[0;36m<module>\u001b[1;34m\u001b[0m\n\u001b[0;32m     12\u001b[0m \u001b[0mcm\u001b[0m \u001b[1;33m=\u001b[0m \u001b[0mconfusion_matrix\u001b[0m\u001b[1;33m(\u001b[0m\u001b[0my_test\u001b[0m\u001b[1;33m,\u001b[0m \u001b[0mpred\u001b[0m\u001b[1;33m)\u001b[0m\u001b[1;33m\u001b[0m\u001b[1;33m\u001b[0m\u001b[0m\n\u001b[0;32m     13\u001b[0m \u001b[1;33m\u001b[0m\u001b[0m\n\u001b[1;32m---> 14\u001b[1;33m disp = plot_confusion_matrix(RandomForestClassifier, X_test, y_test,\n\u001b[0m\u001b[0;32m     15\u001b[0m                                  \u001b[0mdisplay_labels\u001b[0m\u001b[1;33m=\u001b[0m\u001b[0mclass_names\u001b[0m\u001b[1;33m,\u001b[0m\u001b[1;33m\u001b[0m\u001b[1;33m\u001b[0m\u001b[0m\n\u001b[0;32m     16\u001b[0m                                  \u001b[0mcmap\u001b[0m\u001b[1;33m=\u001b[0m\u001b[0mplt\u001b[0m\u001b[1;33m.\u001b[0m\u001b[0mcm\u001b[0m\u001b[1;33m.\u001b[0m\u001b[0mBlues\u001b[0m\u001b[1;33m,\u001b[0m\u001b[1;33m\u001b[0m\u001b[1;33m\u001b[0m\u001b[0m\n",
      "\u001b[1;31mNameError\u001b[0m: name 'plot_confusion_matrix' is not defined"
     ]
    }
   ],
   "source": [
    "## Choose the best model for predictions\n",
    "## RandomForest Classifier\n",
    "\n",
    "classifier=RandomForestClassifier(n_estimators=100, criterion='gini', max_depth=None,min_samples_split=2,\n",
    "                           min_samples_leaf=1, min_weight_fraction_leaf=0.0, max_features='auto',\n",
    "                           max_leaf_nodes=None,bootstrap=True, oob_score=False, n_jobs=1,\n",
    "                           random_state=None, verbose=0, warm_start=False,class_weight=None)\n",
    "\n",
    "fit = classifier.fit(X_train,Y_train)\n",
    "y_pred = fit.predict(X_test)\n",
    "        # creating a confusion matrix   \n",
    "cm = confusion_matrix(y_test, pred) "
   ]
  },
  {
   "cell_type": "code",
   "execution_count": 232,
   "metadata": {},
   "outputs": [
    {
     "data": {
      "text/html": [
       "<div>\n",
       "<style scoped>\n",
       "    .dataframe tbody tr th:only-of-type {\n",
       "        vertical-align: middle;\n",
       "    }\n",
       "\n",
       "    .dataframe tbody tr th {\n",
       "        vertical-align: top;\n",
       "    }\n",
       "\n",
       "    .dataframe thead th {\n",
       "        text-align: right;\n",
       "    }\n",
       "</style>\n",
       "<table border=\"1\" class=\"dataframe\">\n",
       "  <thead>\n",
       "    <tr style=\"text-align: right;\">\n",
       "      <th></th>\n",
       "      <th>1</th>\n",
       "      <th>2</th>\n",
       "      <th>3</th>\n",
       "      <th>4</th>\n",
       "      <th>5</th>\n",
       "      <th>6</th>\n",
       "    </tr>\n",
       "  </thead>\n",
       "  <tbody>\n",
       "    <tr>\n",
       "      <td>1</td>\n",
       "      <td>1985</td>\n",
       "      <td>23</td>\n",
       "      <td>96</td>\n",
       "      <td>2282</td>\n",
       "      <td>16179</td>\n",
       "      <td>1793</td>\n",
       "    </tr>\n",
       "    <tr>\n",
       "      <td>2</td>\n",
       "      <td>1182</td>\n",
       "      <td>43</td>\n",
       "      <td>128</td>\n",
       "      <td>2708</td>\n",
       "      <td>16022</td>\n",
       "      <td>2289</td>\n",
       "    </tr>\n",
       "    <tr>\n",
       "      <td>3</td>\n",
       "      <td>875</td>\n",
       "      <td>12</td>\n",
       "      <td>135</td>\n",
       "      <td>2535</td>\n",
       "      <td>16266</td>\n",
       "      <td>2695</td>\n",
       "    </tr>\n",
       "    <tr>\n",
       "      <td>4</td>\n",
       "      <td>674</td>\n",
       "      <td>10</td>\n",
       "      <td>65</td>\n",
       "      <td>2482</td>\n",
       "      <td>16109</td>\n",
       "      <td>3109</td>\n",
       "    </tr>\n",
       "    <tr>\n",
       "      <td>5</td>\n",
       "      <td>557</td>\n",
       "      <td>0</td>\n",
       "      <td>61</td>\n",
       "      <td>1724</td>\n",
       "      <td>16233</td>\n",
       "      <td>3861</td>\n",
       "    </tr>\n",
       "    <tr>\n",
       "      <td>6</td>\n",
       "      <td>503</td>\n",
       "      <td>7</td>\n",
       "      <td>61</td>\n",
       "      <td>1699</td>\n",
       "      <td>14292</td>\n",
       "      <td>5902</td>\n",
       "    </tr>\n",
       "  </tbody>\n",
       "</table>\n",
       "</div>"
      ],
      "text/plain": [
       "      1   2    3     4      5     6\n",
       "1  1985  23   96  2282  16179  1793\n",
       "2  1182  43  128  2708  16022  2289\n",
       "3   875  12  135  2535  16266  2695\n",
       "4   674  10   65  2482  16109  3109\n",
       "5   557   0   61  1724  16233  3861\n",
       "6   503   7   61  1699  14292  5902"
      ]
     },
     "execution_count": 232,
     "metadata": {},
     "output_type": "execute_result"
    }
   ],
   "source": [
    "cmx =[[ 1985,    23,    96,  2282, 16179,  1793],\n",
    " [ 1182,    43,   128,  2708, 16022,  2289],\n",
    " [  875,    12,   135,  2535, 16266,  2695],\n",
    " [  674,    10,    65,  2482, 16109,  3109],\n",
    " [  557,     0,    61,  1724, 16233,  3861],\n",
    " [  503,     7,    61,  1699, 14292,  5902]]\n",
    "df_cm = pd.DataFrame(cmx, index = [i for i in range(1,7)],\n",
    "                  columns = [i for i in range(1,7)])\n",
    "\n",
    "df_cm"
   ]
  },
  {
   "cell_type": "code",
   "execution_count": 210,
   "metadata": {},
   "outputs": [
    {
     "name": "stdout",
     "output_type": "stream",
     "text": [
      "[[ 1985    23    96  2282 16179  1793]\n",
      " [ 1182    43   128  2708 16022  2289]\n",
      " [  875    12   135  2535 16266  2695]\n",
      " [  674    10    65  2482 16109  3109]\n",
      " [  557     0    61  1724 16233  3861]\n",
      " [  503     7    61  1699 14292  5902]]\n"
     ]
    }
   ],
   "source": [
    "print(cm)"
   ]
  },
  {
   "cell_type": "code",
   "execution_count": 202,
   "metadata": {},
   "outputs": [
    {
     "name": "stdout",
     "output_type": "stream",
     "text": [
      "Mean Absolute Error: 0.16322057698165635\n",
      "Mean Squared Error: 0.3067156028737639\n",
      "Root Mean Squared Error: 0.5538191066347964\n"
     ]
    }
   ],
   "source": [
    "from sklearn import metrics\n",
    "\n",
    "print('Mean Absolute Error:', metrics.mean_absolute_error(y_test, y_pred))\n",
    "print('Mean Squared Error:', metrics.mean_squared_error(y_test, y_pred))\n",
    "print('Root Mean Squared Error:', np.sqrt(metrics.mean_squared_error(y_test, y_pred)))"
   ]
  },
  {
   "cell_type": "code",
   "execution_count": 203,
   "metadata": {},
   "outputs": [
    {
     "name": "stdout",
     "output_type": "stream",
     "text": [
      "[[14481  5308  1631   503   221   214]\n",
      " [ 4211 16352  1076   400   197   136]\n",
      " [  421   394 21232   224   128   119]\n",
      " [   43    11    13 22181   108    93]\n",
      " [    0     0     0     0 22400    36]\n",
      " [    0    10    15     0    62 22377]]\n",
      "              precision    recall  f1-score   support\n",
      "\n",
      "           1       0.76      0.65      0.70     22358\n",
      "           2       0.74      0.73      0.74     22372\n",
      "           3       0.89      0.94      0.91     22518\n",
      "           4       0.95      0.99      0.97     22449\n",
      "           5       0.97      1.00      0.98     22436\n",
      "           6       0.97      1.00      0.98     22464\n",
      "\n",
      "    accuracy                           0.88    134597\n",
      "   macro avg       0.88      0.88      0.88    134597\n",
      "weighted avg       0.88      0.88      0.88    134597\n",
      "\n",
      "0.8842916261135092\n"
     ]
    }
   ],
   "source": [
    "from sklearn.metrics import classification_report, confusion_matrix, accuracy_score\n",
    "\n",
    "print(confusion_matrix(y_test,y_pred))\n",
    "print(classification_report(y_test,y_pred))\n",
    "print(accuracy_score(y_test, y_pred))"
   ]
  },
  {
   "cell_type": "code",
   "execution_count": 217,
   "metadata": {},
   "outputs": [],
   "source": [
    "test_data=pd.read_csv(\"test_submissions_NeDLEvX.csv\")\n",
    "# Joining \n",
    "# first join between user_data and train_data on user_id\n",
    "merged_inner_test = pd.merge(left=user_data,right=test_data, left_on='user_id', right_on='user_id')\n",
    "# second join between merged_inner_1 and problem_data on problem_id\n",
    "dataset_test=pd.merge(left=merged_inner_test,right=problem_data, left_on='problem_id', right_on='problem_id')"
   ]
  },
  {
   "cell_type": "code",
   "execution_count": 218,
   "metadata": {},
   "outputs": [
    {
     "data": {
      "text/html": [
       "<div>\n",
       "<style scoped>\n",
       "    .dataframe tbody tr th:only-of-type {\n",
       "        vertical-align: middle;\n",
       "    }\n",
       "\n",
       "    .dataframe tbody tr th {\n",
       "        vertical-align: top;\n",
       "    }\n",
       "\n",
       "    .dataframe thead th {\n",
       "        text-align: right;\n",
       "    }\n",
       "</style>\n",
       "<table border=\"1\" class=\"dataframe\">\n",
       "  <thead>\n",
       "    <tr style=\"text-align: right;\">\n",
       "      <th></th>\n",
       "      <th>user_id</th>\n",
       "      <th>submission_count</th>\n",
       "      <th>problem_solved</th>\n",
       "      <th>contribution</th>\n",
       "      <th>country</th>\n",
       "      <th>follower_count</th>\n",
       "      <th>last_online_time_seconds</th>\n",
       "      <th>max_rating</th>\n",
       "      <th>rating</th>\n",
       "      <th>rank</th>\n",
       "      <th>registration_time_seconds</th>\n",
       "      <th>ID</th>\n",
       "      <th>problem_id</th>\n",
       "      <th>level_type</th>\n",
       "      <th>points</th>\n",
       "      <th>tags</th>\n",
       "    </tr>\n",
       "  </thead>\n",
       "  <tbody>\n",
       "    <tr>\n",
       "      <td>0</td>\n",
       "      <td>user_3311</td>\n",
       "      <td>47</td>\n",
       "      <td>40</td>\n",
       "      <td>0</td>\n",
       "      <td>NaN</td>\n",
       "      <td>4</td>\n",
       "      <td>1504111645</td>\n",
       "      <td>348.337</td>\n",
       "      <td>330.849</td>\n",
       "      <td>intermediate</td>\n",
       "      <td>1466686436</td>\n",
       "      <td>user_3311_prob_5901</td>\n",
       "      <td>prob_5901</td>\n",
       "      <td>A</td>\n",
       "      <td>500.0</td>\n",
       "      <td>brute force,implementation</td>\n",
       "    </tr>\n",
       "    <tr>\n",
       "      <td>1</td>\n",
       "      <td>user_2412</td>\n",
       "      <td>169</td>\n",
       "      <td>159</td>\n",
       "      <td>0</td>\n",
       "      <td>NaN</td>\n",
       "      <td>2</td>\n",
       "      <td>1505569083</td>\n",
       "      <td>345.757</td>\n",
       "      <td>345.757</td>\n",
       "      <td>intermediate</td>\n",
       "      <td>1429008478</td>\n",
       "      <td>user_2412_prob_5901</td>\n",
       "      <td>prob_5901</td>\n",
       "      <td>A</td>\n",
       "      <td>500.0</td>\n",
       "      <td>brute force,implementation</td>\n",
       "    </tr>\n",
       "    <tr>\n",
       "      <td>2</td>\n",
       "      <td>user_258</td>\n",
       "      <td>96</td>\n",
       "      <td>84</td>\n",
       "      <td>0</td>\n",
       "      <td>Indonesia</td>\n",
       "      <td>3</td>\n",
       "      <td>1496638809</td>\n",
       "      <td>326.261</td>\n",
       "      <td>253.727</td>\n",
       "      <td>beginner</td>\n",
       "      <td>1460555438</td>\n",
       "      <td>user_258_prob_5901</td>\n",
       "      <td>prob_5901</td>\n",
       "      <td>A</td>\n",
       "      <td>500.0</td>\n",
       "      <td>brute force,implementation</td>\n",
       "    </tr>\n",
       "    <tr>\n",
       "      <td>3</td>\n",
       "      <td>user_3267</td>\n",
       "      <td>108</td>\n",
       "      <td>84</td>\n",
       "      <td>0</td>\n",
       "      <td>NaN</td>\n",
       "      <td>2</td>\n",
       "      <td>1505540869</td>\n",
       "      <td>310.493</td>\n",
       "      <td>183.773</td>\n",
       "      <td>beginner</td>\n",
       "      <td>1461340813</td>\n",
       "      <td>user_3267_prob_5901</td>\n",
       "      <td>prob_5901</td>\n",
       "      <td>A</td>\n",
       "      <td>500.0</td>\n",
       "      <td>brute force,implementation</td>\n",
       "    </tr>\n",
       "    <tr>\n",
       "      <td>4</td>\n",
       "      <td>user_1524</td>\n",
       "      <td>67</td>\n",
       "      <td>49</td>\n",
       "      <td>-7</td>\n",
       "      <td>NaN</td>\n",
       "      <td>0</td>\n",
       "      <td>1505404933</td>\n",
       "      <td>316.514</td>\n",
       "      <td>185.206</td>\n",
       "      <td>beginner</td>\n",
       "      <td>1470158002</td>\n",
       "      <td>user_1524_prob_5901</td>\n",
       "      <td>prob_5901</td>\n",
       "      <td>A</td>\n",
       "      <td>500.0</td>\n",
       "      <td>brute force,implementation</td>\n",
       "    </tr>\n",
       "    <tr>\n",
       "      <td>...</td>\n",
       "      <td>...</td>\n",
       "      <td>...</td>\n",
       "      <td>...</td>\n",
       "      <td>...</td>\n",
       "      <td>...</td>\n",
       "      <td>...</td>\n",
       "      <td>...</td>\n",
       "      <td>...</td>\n",
       "      <td>...</td>\n",
       "      <td>...</td>\n",
       "      <td>...</td>\n",
       "      <td>...</td>\n",
       "      <td>...</td>\n",
       "      <td>...</td>\n",
       "      <td>...</td>\n",
       "      <td>...</td>\n",
       "    </tr>\n",
       "    <tr>\n",
       "      <td>66550</td>\n",
       "      <td>user_1638</td>\n",
       "      <td>365</td>\n",
       "      <td>296</td>\n",
       "      <td>3</td>\n",
       "      <td>Kazakhstan</td>\n",
       "      <td>56</td>\n",
       "      <td>1505488049</td>\n",
       "      <td>397.649</td>\n",
       "      <td>328.555</td>\n",
       "      <td>intermediate</td>\n",
       "      <td>1472663259</td>\n",
       "      <td>user_1638_prob_6320</td>\n",
       "      <td>prob_6320</td>\n",
       "      <td>J</td>\n",
       "      <td>NaN</td>\n",
       "      <td>NaN</td>\n",
       "    </tr>\n",
       "    <tr>\n",
       "      <td>66551</td>\n",
       "      <td>user_1209</td>\n",
       "      <td>840</td>\n",
       "      <td>782</td>\n",
       "      <td>157</td>\n",
       "      <td>Poland</td>\n",
       "      <td>959</td>\n",
       "      <td>1505391741</td>\n",
       "      <td>735.665</td>\n",
       "      <td>663.704</td>\n",
       "      <td>expert</td>\n",
       "      <td>1369775813</td>\n",
       "      <td>user_1209_prob_1369</td>\n",
       "      <td>prob_1369</td>\n",
       "      <td>B</td>\n",
       "      <td>NaN</td>\n",
       "      <td>NaN</td>\n",
       "    </tr>\n",
       "    <tr>\n",
       "      <td>66552</td>\n",
       "      <td>user_1209</td>\n",
       "      <td>840</td>\n",
       "      <td>782</td>\n",
       "      <td>157</td>\n",
       "      <td>Poland</td>\n",
       "      <td>959</td>\n",
       "      <td>1505391741</td>\n",
       "      <td>735.665</td>\n",
       "      <td>663.704</td>\n",
       "      <td>expert</td>\n",
       "      <td>1369775813</td>\n",
       "      <td>user_1209_prob_1075</td>\n",
       "      <td>prob_1075</td>\n",
       "      <td>D</td>\n",
       "      <td>NaN</td>\n",
       "      <td>NaN</td>\n",
       "    </tr>\n",
       "    <tr>\n",
       "      <td>66553</td>\n",
       "      <td>user_1209</td>\n",
       "      <td>840</td>\n",
       "      <td>782</td>\n",
       "      <td>157</td>\n",
       "      <td>Poland</td>\n",
       "      <td>959</td>\n",
       "      <td>1505391741</td>\n",
       "      <td>735.665</td>\n",
       "      <td>663.704</td>\n",
       "      <td>expert</td>\n",
       "      <td>1369775813</td>\n",
       "      <td>user_1209_prob_2134</td>\n",
       "      <td>prob_2134</td>\n",
       "      <td>D</td>\n",
       "      <td>NaN</td>\n",
       "      <td>NaN</td>\n",
       "    </tr>\n",
       "    <tr>\n",
       "      <td>66554</td>\n",
       "      <td>user_1209</td>\n",
       "      <td>840</td>\n",
       "      <td>782</td>\n",
       "      <td>157</td>\n",
       "      <td>Poland</td>\n",
       "      <td>959</td>\n",
       "      <td>1505391741</td>\n",
       "      <td>735.665</td>\n",
       "      <td>663.704</td>\n",
       "      <td>expert</td>\n",
       "      <td>1369775813</td>\n",
       "      <td>user_1209_prob_2467</td>\n",
       "      <td>prob_2467</td>\n",
       "      <td>A</td>\n",
       "      <td>NaN</td>\n",
       "      <td>NaN</td>\n",
       "    </tr>\n",
       "  </tbody>\n",
       "</table>\n",
       "<p>66555 rows × 16 columns</p>\n",
       "</div>"
      ],
      "text/plain": [
       "         user_id  submission_count  problem_solved  contribution     country  \\\n",
       "0      user_3311                47              40             0         NaN   \n",
       "1      user_2412               169             159             0         NaN   \n",
       "2       user_258                96              84             0   Indonesia   \n",
       "3      user_3267               108              84             0         NaN   \n",
       "4      user_1524                67              49            -7         NaN   \n",
       "...          ...               ...             ...           ...         ...   \n",
       "66550  user_1638               365             296             3  Kazakhstan   \n",
       "66551  user_1209               840             782           157      Poland   \n",
       "66552  user_1209               840             782           157      Poland   \n",
       "66553  user_1209               840             782           157      Poland   \n",
       "66554  user_1209               840             782           157      Poland   \n",
       "\n",
       "       follower_count  last_online_time_seconds  max_rating   rating  \\\n",
       "0                   4                1504111645     348.337  330.849   \n",
       "1                   2                1505569083     345.757  345.757   \n",
       "2                   3                1496638809     326.261  253.727   \n",
       "3                   2                1505540869     310.493  183.773   \n",
       "4                   0                1505404933     316.514  185.206   \n",
       "...               ...                       ...         ...      ...   \n",
       "66550              56                1505488049     397.649  328.555   \n",
       "66551             959                1505391741     735.665  663.704   \n",
       "66552             959                1505391741     735.665  663.704   \n",
       "66553             959                1505391741     735.665  663.704   \n",
       "66554             959                1505391741     735.665  663.704   \n",
       "\n",
       "               rank  registration_time_seconds                   ID  \\\n",
       "0      intermediate                 1466686436  user_3311_prob_5901   \n",
       "1      intermediate                 1429008478  user_2412_prob_5901   \n",
       "2          beginner                 1460555438   user_258_prob_5901   \n",
       "3          beginner                 1461340813  user_3267_prob_5901   \n",
       "4          beginner                 1470158002  user_1524_prob_5901   \n",
       "...             ...                        ...                  ...   \n",
       "66550  intermediate                 1472663259  user_1638_prob_6320   \n",
       "66551        expert                 1369775813  user_1209_prob_1369   \n",
       "66552        expert                 1369775813  user_1209_prob_1075   \n",
       "66553        expert                 1369775813  user_1209_prob_2134   \n",
       "66554        expert                 1369775813  user_1209_prob_2467   \n",
       "\n",
       "      problem_id level_type  points                        tags  \n",
       "0      prob_5901          A   500.0  brute force,implementation  \n",
       "1      prob_5901          A   500.0  brute force,implementation  \n",
       "2      prob_5901          A   500.0  brute force,implementation  \n",
       "3      prob_5901          A   500.0  brute force,implementation  \n",
       "4      prob_5901          A   500.0  brute force,implementation  \n",
       "...          ...        ...     ...                         ...  \n",
       "66550  prob_6320          J     NaN                         NaN  \n",
       "66551  prob_1369          B     NaN                         NaN  \n",
       "66552  prob_1075          D     NaN                         NaN  \n",
       "66553  prob_2134          D     NaN                         NaN  \n",
       "66554  prob_2467          A     NaN                         NaN  \n",
       "\n",
       "[66555 rows x 16 columns]"
      ]
     },
     "execution_count": 218,
     "metadata": {},
     "output_type": "execute_result"
    }
   ],
   "source": [
    "dataset_test"
   ]
  },
  {
   "cell_type": "code",
   "execution_count": 220,
   "metadata": {},
   "outputs": [
    {
     "data": {
      "text/html": [
       "<div>\n",
       "<style scoped>\n",
       "    .dataframe tbody tr th:only-of-type {\n",
       "        vertical-align: middle;\n",
       "    }\n",
       "\n",
       "    .dataframe tbody tr th {\n",
       "        vertical-align: top;\n",
       "    }\n",
       "\n",
       "    .dataframe thead th {\n",
       "        text-align: right;\n",
       "    }\n",
       "</style>\n",
       "<table border=\"1\" class=\"dataframe\">\n",
       "  <thead>\n",
       "    <tr style=\"text-align: right;\">\n",
       "      <th></th>\n",
       "      <th>country</th>\n",
       "      <th>points</th>\n",
       "      <th>tags</th>\n",
       "      <th>level_type</th>\n",
       "      <th>problem_id</th>\n",
       "      <th>ID</th>\n",
       "      <th>registration_time_seconds</th>\n",
       "      <th>rank</th>\n",
       "      <th>rating</th>\n",
       "      <th>max_rating</th>\n",
       "      <th>last_online_time_seconds</th>\n",
       "      <th>follower_count</th>\n",
       "      <th>contribution</th>\n",
       "      <th>problem_solved</th>\n",
       "      <th>submission_count</th>\n",
       "      <th>user_id</th>\n",
       "    </tr>\n",
       "  </thead>\n",
       "  <tbody>\n",
       "    <tr>\n",
       "      <td>Total</td>\n",
       "      <td>16162.000000</td>\n",
       "      <td>12484.000000</td>\n",
       "      <td>6612.000000</td>\n",
       "      <td>285.000000</td>\n",
       "      <td>0.0</td>\n",
       "      <td>0.0</td>\n",
       "      <td>0.0</td>\n",
       "      <td>0.0</td>\n",
       "      <td>0.0</td>\n",
       "      <td>0.0</td>\n",
       "      <td>0.0</td>\n",
       "      <td>0.0</td>\n",
       "      <td>0.0</td>\n",
       "      <td>0.0</td>\n",
       "      <td>0.0</td>\n",
       "      <td>0.0</td>\n",
       "    </tr>\n",
       "    <tr>\n",
       "      <td>Percentage</td>\n",
       "      <td>24.283675</td>\n",
       "      <td>18.757419</td>\n",
       "      <td>9.934641</td>\n",
       "      <td>0.428217</td>\n",
       "      <td>0.0</td>\n",
       "      <td>0.0</td>\n",
       "      <td>0.0</td>\n",
       "      <td>0.0</td>\n",
       "      <td>0.0</td>\n",
       "      <td>0.0</td>\n",
       "      <td>0.0</td>\n",
       "      <td>0.0</td>\n",
       "      <td>0.0</td>\n",
       "      <td>0.0</td>\n",
       "      <td>0.0</td>\n",
       "      <td>0.0</td>\n",
       "    </tr>\n",
       "  </tbody>\n",
       "</table>\n",
       "</div>"
      ],
      "text/plain": [
       "                 country        points         tags  level_type  problem_id  \\\n",
       "Total       16162.000000  12484.000000  6612.000000  285.000000         0.0   \n",
       "Percentage     24.283675     18.757419     9.934641    0.428217         0.0   \n",
       "\n",
       "             ID  registration_time_seconds  rank  rating  max_rating  \\\n",
       "Total       0.0                        0.0   0.0     0.0         0.0   \n",
       "Percentage  0.0                        0.0   0.0     0.0         0.0   \n",
       "\n",
       "            last_online_time_seconds  follower_count  contribution  \\\n",
       "Total                            0.0             0.0           0.0   \n",
       "Percentage                       0.0             0.0           0.0   \n",
       "\n",
       "            problem_solved  submission_count  user_id  \n",
       "Total                  0.0               0.0      0.0  \n",
       "Percentage             0.0               0.0      0.0  "
      ]
     },
     "execution_count": 220,
     "metadata": {},
     "output_type": "execute_result"
    }
   ],
   "source": [
    "total_test = dataset_test.isnull().sum().sort_values(ascending = False)\n",
    "null_percentage = (dataset_test.isnull().sum() / dataset_test.isnull().count() * 100).sort_values(ascending = False)\n",
    "pd.concat([total_test, null_percentage], axis=1, keys=['Total', 'Percentage']).transpose()"
   ]
  },
  {
   "cell_type": "code",
   "execution_count": 233,
   "metadata": {},
   "outputs": [
    {
     "data": {
      "text/plain": [
       "(59831, 16)"
      ]
     },
     "execution_count": 233,
     "metadata": {},
     "output_type": "execute_result"
    }
   ],
   "source": [
    "dataset_cleaned1_t = dataset_test.dropna(axis=0, subset=['tags'])\n",
    "dataset_cleaned2_t = dataset_cleaned1_t.dropna(axis=0, subset=['level_type'])\n",
    "dataset_cleaned2_t['points']= dataset_cleaned2_t['points'].replace(np.NaN,0)\n",
    "dataset_cleaned2_t['country']= dataset_cleaned2_t['country'].replace(np.NaN,'Unspecified')\n",
    "\n",
    "final_dataset_test=dataset_cleaned2_t\n",
    "final_dataset_test.shape"
   ]
  },
  {
   "cell_type": "code",
   "execution_count": 222,
   "metadata": {},
   "outputs": [
    {
     "data": {
      "text/plain": [
       "Index(['user_id', 'contribution', 'country', 'ID', 'problem_id', '*special',\n",
       "       '2-sat', 'binary search', 'bitmasks', 'brute force',\n",
       "       'chinese remainder theorem', 'combinatorics', 'constructive algorithms',\n",
       "       'data structures', 'dfs and similar', 'divide and conquer', 'dp', 'dsu',\n",
       "       'expression parsing', 'fft', 'flows', 'games', 'geometry',\n",
       "       'graph matchings', 'graphs', 'greedy', 'hashing', 'implementation',\n",
       "       'math', 'matrices', 'meet-in-the-middle', 'number theory',\n",
       "       'probabilities', 'schedules', 'shortest paths', 'sortings',\n",
       "       'string suffix structures', 'strings', 'ternary search', 'trees',\n",
       "       'two pointers', 'level_type_A', 'level_type_B', 'level_type_C',\n",
       "       'level_type_D', 'level_type_E', 'level_type_F', 'level_type_G',\n",
       "       'level_type_H', 'level_type_I', 'level_type_J', 'level_type_K',\n",
       "       'level_type_L', 'level_type_M', 'level_type_N', 'rank_advanced',\n",
       "       'rank_beginner', 'rank_expert', 'rank_intermediate', 'submission_count',\n",
       "       'problem_solved', 'last_online_time_seconds', 'max_rating', 'rating',\n",
       "       'registration_time_seconds', 'follower_count', 'points'],\n",
       "      dtype='object')"
      ]
     },
     "execution_count": 222,
     "metadata": {},
     "output_type": "execute_result"
    }
   ],
   "source": [
    "final_categorical_dataset_t=preprocessed_categorical_df(final_dataset_test,category_variables)\n",
    "final_data_test=preprocessed_numerical_df(final_categorical_dataset_t,numerical_variables)\n",
    "final_data_test.columns"
   ]
  },
  {
   "cell_type": "code",
   "execution_count": 223,
   "metadata": {},
   "outputs": [],
   "source": [
    "f_dataset_independent_variables_test=final_data_test[[ 'contribution', '*special',\n",
    "       '2-sat', 'binary search', 'bitmasks', 'brute force',\n",
    "       'chinese remainder theorem', 'combinatorics', 'constructive algorithms',\n",
    "       'data structures', 'dfs and similar', 'divide and conquer', 'dp', 'dsu',\n",
    "       'expression parsing', 'fft', 'flows', 'games', 'geometry',\n",
    "       'graph matchings', 'graphs', 'greedy', 'hashing', 'implementation',\n",
    "       'math', 'matrices', 'meet-in-the-middle', 'number theory',\n",
    "       'probabilities', 'schedules', 'shortest paths', 'sortings',\n",
    "       'string suffix structures', 'strings', 'ternary search', 'trees',\n",
    "       'two pointers', 'level_type_A', 'level_type_B', 'level_type_C',\n",
    "       'level_type_D', 'level_type_E', 'level_type_F', 'level_type_G',\n",
    "       'level_type_H', 'level_type_I', 'level_type_J', 'level_type_K',\n",
    "       'level_type_L', 'level_type_M', 'level_type_N', 'rank_advanced',\n",
    "       'rank_beginner', 'rank_expert', 'rank_intermediate', 'submission_count',\n",
    "       'problem_solved', 'last_online_time_seconds', 'max_rating', 'rating',\n",
    "       'registration_time_seconds', 'follower_count', 'points']]"
   ]
  },
  {
   "cell_type": "code",
   "execution_count": 224,
   "metadata": {},
   "outputs": [],
   "source": [
    "y_pred_test = fit.predict(f_dataset_independent_variables_test)\n",
    "        # creating a confusion matrix   \n"
   ]
  },
  {
   "cell_type": "code",
   "execution_count": 225,
   "metadata": {},
   "outputs": [
    {
     "data": {
      "text/plain": [
       "array([1, 1, 1, ..., 1, 1, 2], dtype=int64)"
      ]
     },
     "execution_count": 225,
     "metadata": {},
     "output_type": "execute_result"
    }
   ],
   "source": [
    "y_pred_test"
   ]
  },
  {
   "cell_type": "code",
   "execution_count": 228,
   "metadata": {},
   "outputs": [],
   "source": [
    "test_result=pd.DataFrame()\n",
    "test_result['user_id']=final_data_test['user_id']\n",
    "test_result['problem_id']=final_data_test['problem_id']\n",
    "test_result['attempt_range']=y_pred_test"
   ]
  },
  {
   "cell_type": "code",
   "execution_count": 229,
   "metadata": {},
   "outputs": [
    {
     "data": {
      "text/html": [
       "<div>\n",
       "<style scoped>\n",
       "    .dataframe tbody tr th:only-of-type {\n",
       "        vertical-align: middle;\n",
       "    }\n",
       "\n",
       "    .dataframe tbody tr th {\n",
       "        vertical-align: top;\n",
       "    }\n",
       "\n",
       "    .dataframe thead th {\n",
       "        text-align: right;\n",
       "    }\n",
       "</style>\n",
       "<table border=\"1\" class=\"dataframe\">\n",
       "  <thead>\n",
       "    <tr style=\"text-align: right;\">\n",
       "      <th></th>\n",
       "      <th>user_id</th>\n",
       "      <th>problem_id</th>\n",
       "      <th>attempt_range</th>\n",
       "    </tr>\n",
       "  </thead>\n",
       "  <tbody>\n",
       "    <tr>\n",
       "      <td>0</td>\n",
       "      <td>user_3311</td>\n",
       "      <td>prob_5901</td>\n",
       "      <td>1</td>\n",
       "    </tr>\n",
       "    <tr>\n",
       "      <td>1</td>\n",
       "      <td>user_2412</td>\n",
       "      <td>prob_5901</td>\n",
       "      <td>1</td>\n",
       "    </tr>\n",
       "    <tr>\n",
       "      <td>2</td>\n",
       "      <td>user_258</td>\n",
       "      <td>prob_5901</td>\n",
       "      <td>1</td>\n",
       "    </tr>\n",
       "    <tr>\n",
       "      <td>3</td>\n",
       "      <td>user_3267</td>\n",
       "      <td>prob_5901</td>\n",
       "      <td>2</td>\n",
       "    </tr>\n",
       "    <tr>\n",
       "      <td>4</td>\n",
       "      <td>user_1524</td>\n",
       "      <td>prob_5901</td>\n",
       "      <td>5</td>\n",
       "    </tr>\n",
       "    <tr>\n",
       "      <td>...</td>\n",
       "      <td>...</td>\n",
       "      <td>...</td>\n",
       "      <td>...</td>\n",
       "    </tr>\n",
       "    <tr>\n",
       "      <td>66516</td>\n",
       "      <td>user_944</td>\n",
       "      <td>prob_3583</td>\n",
       "      <td>2</td>\n",
       "    </tr>\n",
       "    <tr>\n",
       "      <td>66517</td>\n",
       "      <td>user_745</td>\n",
       "      <td>prob_2363</td>\n",
       "      <td>1</td>\n",
       "    </tr>\n",
       "    <tr>\n",
       "      <td>66523</td>\n",
       "      <td>user_3048</td>\n",
       "      <td>prob_5921</td>\n",
       "      <td>1</td>\n",
       "    </tr>\n",
       "    <tr>\n",
       "      <td>66537</td>\n",
       "      <td>user_3551</td>\n",
       "      <td>prob_2332</td>\n",
       "      <td>1</td>\n",
       "    </tr>\n",
       "    <tr>\n",
       "      <td>66547</td>\n",
       "      <td>user_2890</td>\n",
       "      <td>prob_2622</td>\n",
       "      <td>2</td>\n",
       "    </tr>\n",
       "  </tbody>\n",
       "</table>\n",
       "<p>59831 rows × 3 columns</p>\n",
       "</div>"
      ],
      "text/plain": [
       "         user_id problem_id  attempt_range\n",
       "0      user_3311  prob_5901              1\n",
       "1      user_2412  prob_5901              1\n",
       "2       user_258  prob_5901              1\n",
       "3      user_3267  prob_5901              2\n",
       "4      user_1524  prob_5901              5\n",
       "...          ...        ...            ...\n",
       "66516   user_944  prob_3583              2\n",
       "66517   user_745  prob_2363              1\n",
       "66523  user_3048  prob_5921              1\n",
       "66537  user_3551  prob_2332              1\n",
       "66547  user_2890  prob_2622              2\n",
       "\n",
       "[59831 rows x 3 columns]"
      ]
     },
     "execution_count": 229,
     "metadata": {},
     "output_type": "execute_result"
    }
   ],
   "source": [
    "test_result"
   ]
  },
  {
   "cell_type": "code",
   "execution_count": 230,
   "metadata": {},
   "outputs": [
    {
     "data": {
      "text/plain": [
       "1    35341\n",
       "2    16621\n",
       "3     5121\n",
       "4     1451\n",
       "6      697\n",
       "5      600\n",
       "Name: attempt_range, dtype: int64"
      ]
     },
     "execution_count": 230,
     "metadata": {},
     "output_type": "execute_result"
    }
   ],
   "source": [
    "test_result.attempt_range.value_counts()"
   ]
  },
  {
   "cell_type": "code",
   "execution_count": 231,
   "metadata": {},
   "outputs": [],
   "source": [
    "test_result.to_csv(\"test_result.csv\")"
   ]
  },
  {
   "cell_type": "code",
   "execution_count": null,
   "metadata": {},
   "outputs": [],
   "source": []
  }
 ],
 "metadata": {
  "kernelspec": {
   "display_name": "Python 3",
   "language": "python",
   "name": "python3"
  },
  "language_info": {
   "codemirror_mode": {
    "name": "ipython",
    "version": 3
   },
   "file_extension": ".py",
   "mimetype": "text/x-python",
   "name": "python",
   "nbconvert_exporter": "python",
   "pygments_lexer": "ipython3",
   "version": "3.7.4"
  }
 },
 "nbformat": 4,
 "nbformat_minor": 2
}
